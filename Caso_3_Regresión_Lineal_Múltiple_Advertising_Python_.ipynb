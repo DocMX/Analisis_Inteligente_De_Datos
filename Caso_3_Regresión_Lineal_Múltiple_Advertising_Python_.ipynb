{
  "nbformat": 4,
  "nbformat_minor": 0,
  "metadata": {
    "colab": {
      "provenance": [],
      "authorship_tag": "ABX9TyPYvX2Ix/Z5NDkQyDp4ifHR",
      "include_colab_link": true
    },
    "kernelspec": {
      "name": "python3",
      "display_name": "Python 3"
    },
    "language_info": {
      "name": "python"
    }
  },
  "cells": [
    {
      "cell_type": "markdown",
      "metadata": {
        "id": "view-in-github",
        "colab_type": "text"
      },
      "source": [
        "<a href=\"https://colab.research.google.com/github/DocMX/Analisis_Inteligente_De_Datos/blob/main/Caso_3_Regresi%C3%B3n_Lineal_M%C3%BAltiple_Advertising_Python_.ipynb\" target=\"_parent\"><img src=\"https://colab.research.google.com/assets/colab-badge.svg\" alt=\"Open In Colab\"/></a>"
      ]
    },
    {
      "cell_type": "code",
      "execution_count": null,
      "metadata": {
        "id": "rG3-Sg0BYnAa"
      },
      "outputs": [],
      "source": []
    },
    {
      "cell_type": "markdown",
      "source": [
        "\"Caso 3. Regresión Lineal Múltiple con datos Adverstising. Programación Python\"\n",
        "\n",
        "author: \"Jorge Luis Vega Hernández\"\n",
        "\n",
        "date: \"2022-09-28\""
      ],
      "metadata": {
        "id": "-DxvsgYIb9bc"
      }
    },
    {
      "cell_type": "markdown",
      "source": [
        "# Objetivo\n",
        "\n",
        "Crear y evaluar un modelo de regresión lineal múltiple para predecir las ventas con datos simulados de una empresa dependiendo de las inversiones realizadas en publicidad\n",
        "\n",
        "# Descripción\n",
        "\n",
        "-   Cargar librerías y datos\n",
        "\n",
        "-   Limpiar datos si es necesario\n",
        "\n",
        "-   Explorar datos\n",
        "\n",
        "-   Partir los datos en datos de entrenamiento y datos de validación 70% y 30%\n",
        "\n",
        "-   Crear modelo de regresión con los datos de entrenamiento\n",
        "\n",
        "-   Evaluar modelo antes de predicciones con los estadísticos. R Square ajustado y Coeficientes\n",
        "\n",
        "-   El modelo se acepta si presenta un valor de R Square ajustado por encima del 70%\n",
        "\n",
        "-   Predicciones\n",
        "\n",
        "-   Evaluar predicciones con respecto a datos reales\n",
        "\n",
        "-   Determinar el estadístico *rmse* para evaluar con respecto a otros modelos\n",
        "\n",
        "-   Interpretar el caso\n",
        "\n",
        "# Fundamento teórico\n",
        "\n",
        "En la mayoría de los problemas de investigación en los que se aplica el análisis de regresión se necesita más de una variable independiente para el modelo de regresión.\n",
        "\n",
        "La complejidad de la mayoría de mecanismos científicos es tal que, con el fin de predecir una respuesta importante, se requiere un modelo de regresión múltiple. Cuando un modelo es lineal en los coeficientes se denomina modelo de regresión lineal múltiple.\n",
        "\n",
        "Para el caso de k variables independientes, el modelo que da $x_1,x_2,x_3...,x_k$, y $y$ como la variable dependiente.\n",
        "\n",
        "$x_1, x_2, x_3,...,x_k$ son las variable s que afectan a la variable dependiente en el modelo de regresión lineal múltiple.\n",
        "\n",
        "Muchos problemas de investigación y de la industria, requieren la estimación de las relaciones existentes entre el patrón de variabilidad de una variable aleatoria y los valores de una o más variables aleatorias. [@urrutiamosquera2011]\n",
        "\n",
        "Al generar un modelo de regresión lineal múltiple es importante identificar los estadísticos de R2, que se denomina coeficiente de determinación y es una medida de la proporción de la variabilidad explicada por el modelo ajustado.\n",
        "\n",
        "De igual forma, el valor de R2 ajustado (*R Square Adjusted*) o coeficiente de determinación ajustado, es una variación de R2 que proporciona un ajuste para los grados de libertad [@walpole2012].\n",
        "\n",
        "El estadístico R Ajustado está diseñado para proporcionar un estadístico que castigue un modelo sobreajustado, de manera que se puede esperar que favorezca al modelo [@walpole2012].\n",
        "\n",
        "Una variable **Y** puede predecirse conforme y de acuerdo con la siguiente fórmula de la regresión múltiple.\n",
        "\n",
        "$$\n",
        "Y = b_0 + b_1{x_1} + b_2{x_2} + b_3{x_3}+ .....b_k{x_k}\n",
        "$$\n",
        "\n",
        "# Desarrollo\n",
        "\n",
        "Para trabajar con código Python, se deben cargan las librerías de *Python* previamente instaladas con la función *py_install()* de la librería *reticulate* de R.\n",
        "\n",
        "La función *repl_python()* se utilizar para ejecutar ventana de comando o *shell* de *Python.*\n",
        "\n",
        "Se recomienda instalar estos paquetes de *Python*\n",
        "\n",
        "-   *py_install(packages = \"pandas\")*\n",
        "\n",
        "-   *py_install(packages = \"matplotlib\")*\n",
        "\n",
        "-   *py_install(packages = \"numpy\")*\n",
        "\n",
        "-   *py_install(packages = \"sklearn\") en R cloud*\n",
        "\n",
        "-   *py_install(\"scikit-learn\") R Studio local*\n",
        "\n",
        "-   *py_install(packages = \"statsmodels.api\")*\n",
        "\n",
        "-   *py_install(packages = \"seaborn\")*\n",
        "\n",
        "-   En terminal de Python se puede actualizar con c*onda create -n py3.8 python=3.8 scikit-learn pandas numpy matplotlib*\n",
        "\n",
        "## Cargar librerías"
      ],
      "metadata": {
        "id": "m8FB4GGccStl"
      }
    },
    {
      "cell_type": "code",
      "source": [
        "import pandas as pd\n",
        "import numpy as np\n",
        "import statsmodels.api as sm # Estadísticas R Adjused\n",
        "import seaborn as sns  # Gráficos\n",
        "from sklearn import linear_model\n",
        "from sklearn.linear_model import LinearRegression\n",
        "from sklearn.preprocessing import PolynomialFeatures # Polinomial\n",
        "import matplotlib.pyplot as plt\n",
        "from sklearn.model_selection import train_test_split\n",
        "from sklearn import metrics\n",
        "from sklearn.metrics import mean_squared_error, r2_score"
      ],
      "metadata": {
        "id": "gOyzPr-ZcUZp"
      },
      "execution_count": 1,
      "outputs": []
    },
    {
      "cell_type": "markdown",
      "source": [
        "## Cargar datos"
      ],
      "metadata": {
        "id": "5lJgLs1NcjOM"
      }
    },
    {
      "cell_type": "code",
      "source": [
        "datos = pd.read_csv(\"https://raw.githubusercontent.com/rpizarrog/Analisis-Inteligente-de-datos/main/datos/Advertising_Web.csv\")\n",
        "datos"
      ],
      "metadata": {
        "colab": {
          "base_uri": "https://localhost:8080/",
          "height": 424
        },
        "id": "kG-j1q6cclmi",
        "outputId": "615a0c55-30e1-400d-f0a0-c459195446ec"
      },
      "execution_count": 2,
      "outputs": [
        {
          "output_type": "execute_result",
          "data": {
            "text/plain": [
              "     Unnamed: 0    X     TV  Radio  Newspaper         Web  Sales\n",
              "0             1    1  230.1   37.8       69.2  306.634752   22.1\n",
              "1             2    2   44.5   39.3       45.1  302.653070   10.4\n",
              "2             3    3   17.2   45.9       69.3   49.498908    9.3\n",
              "3             4    4  151.5   41.3       58.5  257.816893   18.5\n",
              "4             5    5  180.8   10.8       58.4  195.660076   12.9\n",
              "..          ...  ...    ...    ...        ...         ...    ...\n",
              "195         196  196   38.2    3.7       13.8  248.841073    7.6\n",
              "196         197  197   94.2    4.9        8.1  118.041856    9.7\n",
              "197         198  198  177.0    9.3        6.4  213.274671   12.8\n",
              "198         199  199  283.6   42.0       66.2  237.498063   25.5\n",
              "199         200  200  232.1    8.6        8.7  151.990733   13.4\n",
              "\n",
              "[200 rows x 7 columns]"
            ],
            "text/html": [
              "\n",
              "  <div id=\"df-ecbc0c98-9ec8-41cd-b1e7-7a48c7d1f5e9\">\n",
              "    <div class=\"colab-df-container\">\n",
              "      <div>\n",
              "<style scoped>\n",
              "    .dataframe tbody tr th:only-of-type {\n",
              "        vertical-align: middle;\n",
              "    }\n",
              "\n",
              "    .dataframe tbody tr th {\n",
              "        vertical-align: top;\n",
              "    }\n",
              "\n",
              "    .dataframe thead th {\n",
              "        text-align: right;\n",
              "    }\n",
              "</style>\n",
              "<table border=\"1\" class=\"dataframe\">\n",
              "  <thead>\n",
              "    <tr style=\"text-align: right;\">\n",
              "      <th></th>\n",
              "      <th>Unnamed: 0</th>\n",
              "      <th>X</th>\n",
              "      <th>TV</th>\n",
              "      <th>Radio</th>\n",
              "      <th>Newspaper</th>\n",
              "      <th>Web</th>\n",
              "      <th>Sales</th>\n",
              "    </tr>\n",
              "  </thead>\n",
              "  <tbody>\n",
              "    <tr>\n",
              "      <th>0</th>\n",
              "      <td>1</td>\n",
              "      <td>1</td>\n",
              "      <td>230.1</td>\n",
              "      <td>37.8</td>\n",
              "      <td>69.2</td>\n",
              "      <td>306.634752</td>\n",
              "      <td>22.1</td>\n",
              "    </tr>\n",
              "    <tr>\n",
              "      <th>1</th>\n",
              "      <td>2</td>\n",
              "      <td>2</td>\n",
              "      <td>44.5</td>\n",
              "      <td>39.3</td>\n",
              "      <td>45.1</td>\n",
              "      <td>302.653070</td>\n",
              "      <td>10.4</td>\n",
              "    </tr>\n",
              "    <tr>\n",
              "      <th>2</th>\n",
              "      <td>3</td>\n",
              "      <td>3</td>\n",
              "      <td>17.2</td>\n",
              "      <td>45.9</td>\n",
              "      <td>69.3</td>\n",
              "      <td>49.498908</td>\n",
              "      <td>9.3</td>\n",
              "    </tr>\n",
              "    <tr>\n",
              "      <th>3</th>\n",
              "      <td>4</td>\n",
              "      <td>4</td>\n",
              "      <td>151.5</td>\n",
              "      <td>41.3</td>\n",
              "      <td>58.5</td>\n",
              "      <td>257.816893</td>\n",
              "      <td>18.5</td>\n",
              "    </tr>\n",
              "    <tr>\n",
              "      <th>4</th>\n",
              "      <td>5</td>\n",
              "      <td>5</td>\n",
              "      <td>180.8</td>\n",
              "      <td>10.8</td>\n",
              "      <td>58.4</td>\n",
              "      <td>195.660076</td>\n",
              "      <td>12.9</td>\n",
              "    </tr>\n",
              "    <tr>\n",
              "      <th>...</th>\n",
              "      <td>...</td>\n",
              "      <td>...</td>\n",
              "      <td>...</td>\n",
              "      <td>...</td>\n",
              "      <td>...</td>\n",
              "      <td>...</td>\n",
              "      <td>...</td>\n",
              "    </tr>\n",
              "    <tr>\n",
              "      <th>195</th>\n",
              "      <td>196</td>\n",
              "      <td>196</td>\n",
              "      <td>38.2</td>\n",
              "      <td>3.7</td>\n",
              "      <td>13.8</td>\n",
              "      <td>248.841073</td>\n",
              "      <td>7.6</td>\n",
              "    </tr>\n",
              "    <tr>\n",
              "      <th>196</th>\n",
              "      <td>197</td>\n",
              "      <td>197</td>\n",
              "      <td>94.2</td>\n",
              "      <td>4.9</td>\n",
              "      <td>8.1</td>\n",
              "      <td>118.041856</td>\n",
              "      <td>9.7</td>\n",
              "    </tr>\n",
              "    <tr>\n",
              "      <th>197</th>\n",
              "      <td>198</td>\n",
              "      <td>198</td>\n",
              "      <td>177.0</td>\n",
              "      <td>9.3</td>\n",
              "      <td>6.4</td>\n",
              "      <td>213.274671</td>\n",
              "      <td>12.8</td>\n",
              "    </tr>\n",
              "    <tr>\n",
              "      <th>198</th>\n",
              "      <td>199</td>\n",
              "      <td>199</td>\n",
              "      <td>283.6</td>\n",
              "      <td>42.0</td>\n",
              "      <td>66.2</td>\n",
              "      <td>237.498063</td>\n",
              "      <td>25.5</td>\n",
              "    </tr>\n",
              "    <tr>\n",
              "      <th>199</th>\n",
              "      <td>200</td>\n",
              "      <td>200</td>\n",
              "      <td>232.1</td>\n",
              "      <td>8.6</td>\n",
              "      <td>8.7</td>\n",
              "      <td>151.990733</td>\n",
              "      <td>13.4</td>\n",
              "    </tr>\n",
              "  </tbody>\n",
              "</table>\n",
              "<p>200 rows × 7 columns</p>\n",
              "</div>\n",
              "      <button class=\"colab-df-convert\" onclick=\"convertToInteractive('df-ecbc0c98-9ec8-41cd-b1e7-7a48c7d1f5e9')\"\n",
              "              title=\"Convert this dataframe to an interactive table.\"\n",
              "              style=\"display:none;\">\n",
              "        \n",
              "  <svg xmlns=\"http://www.w3.org/2000/svg\" height=\"24px\"viewBox=\"0 0 24 24\"\n",
              "       width=\"24px\">\n",
              "    <path d=\"M0 0h24v24H0V0z\" fill=\"none\"/>\n",
              "    <path d=\"M18.56 5.44l.94 2.06.94-2.06 2.06-.94-2.06-.94-.94-2.06-.94 2.06-2.06.94zm-11 1L8.5 8.5l.94-2.06 2.06-.94-2.06-.94L8.5 2.5l-.94 2.06-2.06.94zm10 10l.94 2.06.94-2.06 2.06-.94-2.06-.94-.94-2.06-.94 2.06-2.06.94z\"/><path d=\"M17.41 7.96l-1.37-1.37c-.4-.4-.92-.59-1.43-.59-.52 0-1.04.2-1.43.59L10.3 9.45l-7.72 7.72c-.78.78-.78 2.05 0 2.83L4 21.41c.39.39.9.59 1.41.59.51 0 1.02-.2 1.41-.59l7.78-7.78 2.81-2.81c.8-.78.8-2.07 0-2.86zM5.41 20L4 18.59l7.72-7.72 1.47 1.35L5.41 20z\"/>\n",
              "  </svg>\n",
              "      </button>\n",
              "      \n",
              "  <style>\n",
              "    .colab-df-container {\n",
              "      display:flex;\n",
              "      flex-wrap:wrap;\n",
              "      gap: 12px;\n",
              "    }\n",
              "\n",
              "    .colab-df-convert {\n",
              "      background-color: #E8F0FE;\n",
              "      border: none;\n",
              "      border-radius: 50%;\n",
              "      cursor: pointer;\n",
              "      display: none;\n",
              "      fill: #1967D2;\n",
              "      height: 32px;\n",
              "      padding: 0 0 0 0;\n",
              "      width: 32px;\n",
              "    }\n",
              "\n",
              "    .colab-df-convert:hover {\n",
              "      background-color: #E2EBFA;\n",
              "      box-shadow: 0px 1px 2px rgba(60, 64, 67, 0.3), 0px 1px 3px 1px rgba(60, 64, 67, 0.15);\n",
              "      fill: #174EA6;\n",
              "    }\n",
              "\n",
              "    [theme=dark] .colab-df-convert {\n",
              "      background-color: #3B4455;\n",
              "      fill: #D2E3FC;\n",
              "    }\n",
              "\n",
              "    [theme=dark] .colab-df-convert:hover {\n",
              "      background-color: #434B5C;\n",
              "      box-shadow: 0px 1px 3px 1px rgba(0, 0, 0, 0.15);\n",
              "      filter: drop-shadow(0px 1px 2px rgba(0, 0, 0, 0.3));\n",
              "      fill: #FFFFFF;\n",
              "    }\n",
              "  </style>\n",
              "\n",
              "      <script>\n",
              "        const buttonEl =\n",
              "          document.querySelector('#df-ecbc0c98-9ec8-41cd-b1e7-7a48c7d1f5e9 button.colab-df-convert');\n",
              "        buttonEl.style.display =\n",
              "          google.colab.kernel.accessAllowed ? 'block' : 'none';\n",
              "\n",
              "        async function convertToInteractive(key) {\n",
              "          const element = document.querySelector('#df-ecbc0c98-9ec8-41cd-b1e7-7a48c7d1f5e9');\n",
              "          const dataTable =\n",
              "            await google.colab.kernel.invokeFunction('convertToInteractive',\n",
              "                                                     [key], {});\n",
              "          if (!dataTable) return;\n",
              "\n",
              "          const docLinkHtml = 'Like what you see? Visit the ' +\n",
              "            '<a target=\"_blank\" href=https://colab.research.google.com/notebooks/data_table.ipynb>data table notebook</a>'\n",
              "            + ' to learn more about interactive tables.';\n",
              "          element.innerHTML = '';\n",
              "          dataTable['output_type'] = 'display_data';\n",
              "          await google.colab.output.renderOutput(dataTable, element);\n",
              "          const docLink = document.createElement('div');\n",
              "          docLink.innerHTML = docLinkHtml;\n",
              "          element.appendChild(docLink);\n",
              "        }\n",
              "      </script>\n",
              "    </div>\n",
              "  </div>\n",
              "  "
            ]
          },
          "metadata": {},
          "execution_count": 2
        }
      ]
    },
    {
      "cell_type": "markdown",
      "source": [
        "## Explorar datos"
      ],
      "metadata": {
        "id": "5xZe_z7Fcp-Z"
      }
    },
    {
      "cell_type": "code",
      "source": [
        "print(\"Observaciones y variables: \", datos.shape)\n",
        "print(\"Columnas y tipo de dato\")\n",
        "# datos.columns\n",
        "datos.dtypes"
      ],
      "metadata": {
        "colab": {
          "base_uri": "https://localhost:8080/"
        },
        "id": "uhVPci8Ucq7e",
        "outputId": "bddea4da-5ac7-4883-f883-a2b9544a5bdf"
      },
      "execution_count": 3,
      "outputs": [
        {
          "output_type": "stream",
          "name": "stdout",
          "text": [
            "Observaciones y variables:  (200, 7)\n",
            "Columnas y tipo de dato\n"
          ]
        },
        {
          "output_type": "execute_result",
          "data": {
            "text/plain": [
              "Unnamed: 0      int64\n",
              "X               int64\n",
              "TV            float64\n",
              "Radio         float64\n",
              "Newspaper     float64\n",
              "Web           float64\n",
              "Sales         float64\n",
              "dtype: object"
            ]
          },
          "metadata": {},
          "execution_count": 3
        }
      ]
    },
    {
      "cell_type": "markdown",
      "source": [
        "Se describen las variables independientes: TV, Radio Newpaper y la variable dependiente Sales.\n",
        "\n",
        "Valor de etiqueta o variable objetivo deendiente(ventas): que significa el volumen de ventas del producto correspondiente\n",
        "\n",
        "Las variables independientes: (TV, Radio, Periódico, WEB):\n",
        "\n",
        "TV: para un solo producto en un mercado determinado, el costo de la publicidad en TV (en miles) Radio: costos de publicidad invertidos en medios de difusión Periódico: costos publicitarios para medios periodísticos."
      ],
      "metadata": {
        "id": "rwaeGYLgc48O"
      }
    },
    {
      "cell_type": "code",
      "source": [
        "datos[['TV','Radio', 'Newspaper', 'Web', 'Sales', ]].describe()"
      ],
      "metadata": {
        "colab": {
          "base_uri": "https://localhost:8080/",
          "height": 300
        },
        "id": "ssxWVNtec-Ce",
        "outputId": "5fa486ee-b103-4724-bc03-91480f7450d4"
      },
      "execution_count": 4,
      "outputs": [
        {
          "output_type": "execute_result",
          "data": {
            "text/plain": [
              "               TV       Radio   Newspaper         Web       Sales\n",
              "count  200.000000  200.000000  200.000000  200.000000  200.000000\n",
              "mean   147.042500   23.264000   30.554000  159.587355   14.022500\n",
              "std     85.854236   14.846809   21.778621   76.815266    5.217457\n",
              "min      0.700000    0.000000    0.300000    4.308085    1.600000\n",
              "25%     74.375000    9.975000   12.750000   99.048767   10.375000\n",
              "50%    149.750000   22.900000   25.750000  156.862154   12.900000\n",
              "75%    218.825000   36.525000   45.100000  212.311848   17.400000\n",
              "max    296.400000   49.600000  114.000000  358.247042   27.000000"
            ],
            "text/html": [
              "\n",
              "  <div id=\"df-208147e8-0ce1-4363-b8d1-378c4cb9dc09\">\n",
              "    <div class=\"colab-df-container\">\n",
              "      <div>\n",
              "<style scoped>\n",
              "    .dataframe tbody tr th:only-of-type {\n",
              "        vertical-align: middle;\n",
              "    }\n",
              "\n",
              "    .dataframe tbody tr th {\n",
              "        vertical-align: top;\n",
              "    }\n",
              "\n",
              "    .dataframe thead th {\n",
              "        text-align: right;\n",
              "    }\n",
              "</style>\n",
              "<table border=\"1\" class=\"dataframe\">\n",
              "  <thead>\n",
              "    <tr style=\"text-align: right;\">\n",
              "      <th></th>\n",
              "      <th>TV</th>\n",
              "      <th>Radio</th>\n",
              "      <th>Newspaper</th>\n",
              "      <th>Web</th>\n",
              "      <th>Sales</th>\n",
              "    </tr>\n",
              "  </thead>\n",
              "  <tbody>\n",
              "    <tr>\n",
              "      <th>count</th>\n",
              "      <td>200.000000</td>\n",
              "      <td>200.000000</td>\n",
              "      <td>200.000000</td>\n",
              "      <td>200.000000</td>\n",
              "      <td>200.000000</td>\n",
              "    </tr>\n",
              "    <tr>\n",
              "      <th>mean</th>\n",
              "      <td>147.042500</td>\n",
              "      <td>23.264000</td>\n",
              "      <td>30.554000</td>\n",
              "      <td>159.587355</td>\n",
              "      <td>14.022500</td>\n",
              "    </tr>\n",
              "    <tr>\n",
              "      <th>std</th>\n",
              "      <td>85.854236</td>\n",
              "      <td>14.846809</td>\n",
              "      <td>21.778621</td>\n",
              "      <td>76.815266</td>\n",
              "      <td>5.217457</td>\n",
              "    </tr>\n",
              "    <tr>\n",
              "      <th>min</th>\n",
              "      <td>0.700000</td>\n",
              "      <td>0.000000</td>\n",
              "      <td>0.300000</td>\n",
              "      <td>4.308085</td>\n",
              "      <td>1.600000</td>\n",
              "    </tr>\n",
              "    <tr>\n",
              "      <th>25%</th>\n",
              "      <td>74.375000</td>\n",
              "      <td>9.975000</td>\n",
              "      <td>12.750000</td>\n",
              "      <td>99.048767</td>\n",
              "      <td>10.375000</td>\n",
              "    </tr>\n",
              "    <tr>\n",
              "      <th>50%</th>\n",
              "      <td>149.750000</td>\n",
              "      <td>22.900000</td>\n",
              "      <td>25.750000</td>\n",
              "      <td>156.862154</td>\n",
              "      <td>12.900000</td>\n",
              "    </tr>\n",
              "    <tr>\n",
              "      <th>75%</th>\n",
              "      <td>218.825000</td>\n",
              "      <td>36.525000</td>\n",
              "      <td>45.100000</td>\n",
              "      <td>212.311848</td>\n",
              "      <td>17.400000</td>\n",
              "    </tr>\n",
              "    <tr>\n",
              "      <th>max</th>\n",
              "      <td>296.400000</td>\n",
              "      <td>49.600000</td>\n",
              "      <td>114.000000</td>\n",
              "      <td>358.247042</td>\n",
              "      <td>27.000000</td>\n",
              "    </tr>\n",
              "  </tbody>\n",
              "</table>\n",
              "</div>\n",
              "      <button class=\"colab-df-convert\" onclick=\"convertToInteractive('df-208147e8-0ce1-4363-b8d1-378c4cb9dc09')\"\n",
              "              title=\"Convert this dataframe to an interactive table.\"\n",
              "              style=\"display:none;\">\n",
              "        \n",
              "  <svg xmlns=\"http://www.w3.org/2000/svg\" height=\"24px\"viewBox=\"0 0 24 24\"\n",
              "       width=\"24px\">\n",
              "    <path d=\"M0 0h24v24H0V0z\" fill=\"none\"/>\n",
              "    <path d=\"M18.56 5.44l.94 2.06.94-2.06 2.06-.94-2.06-.94-.94-2.06-.94 2.06-2.06.94zm-11 1L8.5 8.5l.94-2.06 2.06-.94-2.06-.94L8.5 2.5l-.94 2.06-2.06.94zm10 10l.94 2.06.94-2.06 2.06-.94-2.06-.94-.94-2.06-.94 2.06-2.06.94z\"/><path d=\"M17.41 7.96l-1.37-1.37c-.4-.4-.92-.59-1.43-.59-.52 0-1.04.2-1.43.59L10.3 9.45l-7.72 7.72c-.78.78-.78 2.05 0 2.83L4 21.41c.39.39.9.59 1.41.59.51 0 1.02-.2 1.41-.59l7.78-7.78 2.81-2.81c.8-.78.8-2.07 0-2.86zM5.41 20L4 18.59l7.72-7.72 1.47 1.35L5.41 20z\"/>\n",
              "  </svg>\n",
              "      </button>\n",
              "      \n",
              "  <style>\n",
              "    .colab-df-container {\n",
              "      display:flex;\n",
              "      flex-wrap:wrap;\n",
              "      gap: 12px;\n",
              "    }\n",
              "\n",
              "    .colab-df-convert {\n",
              "      background-color: #E8F0FE;\n",
              "      border: none;\n",
              "      border-radius: 50%;\n",
              "      cursor: pointer;\n",
              "      display: none;\n",
              "      fill: #1967D2;\n",
              "      height: 32px;\n",
              "      padding: 0 0 0 0;\n",
              "      width: 32px;\n",
              "    }\n",
              "\n",
              "    .colab-df-convert:hover {\n",
              "      background-color: #E2EBFA;\n",
              "      box-shadow: 0px 1px 2px rgba(60, 64, 67, 0.3), 0px 1px 3px 1px rgba(60, 64, 67, 0.15);\n",
              "      fill: #174EA6;\n",
              "    }\n",
              "\n",
              "    [theme=dark] .colab-df-convert {\n",
              "      background-color: #3B4455;\n",
              "      fill: #D2E3FC;\n",
              "    }\n",
              "\n",
              "    [theme=dark] .colab-df-convert:hover {\n",
              "      background-color: #434B5C;\n",
              "      box-shadow: 0px 1px 3px 1px rgba(0, 0, 0, 0.15);\n",
              "      filter: drop-shadow(0px 1px 2px rgba(0, 0, 0, 0.3));\n",
              "      fill: #FFFFFF;\n",
              "    }\n",
              "  </style>\n",
              "\n",
              "      <script>\n",
              "        const buttonEl =\n",
              "          document.querySelector('#df-208147e8-0ce1-4363-b8d1-378c4cb9dc09 button.colab-df-convert');\n",
              "        buttonEl.style.display =\n",
              "          google.colab.kernel.accessAllowed ? 'block' : 'none';\n",
              "\n",
              "        async function convertToInteractive(key) {\n",
              "          const element = document.querySelector('#df-208147e8-0ce1-4363-b8d1-378c4cb9dc09');\n",
              "          const dataTable =\n",
              "            await google.colab.kernel.invokeFunction('convertToInteractive',\n",
              "                                                     [key], {});\n",
              "          if (!dataTable) return;\n",
              "\n",
              "          const docLinkHtml = 'Like what you see? Visit the ' +\n",
              "            '<a target=\"_blank\" href=https://colab.research.google.com/notebooks/data_table.ipynb>data table notebook</a>'\n",
              "            + ' to learn more about interactive tables.';\n",
              "          element.innerHTML = '';\n",
              "          dataTable['output_type'] = 'display_data';\n",
              "          await google.colab.output.renderOutput(dataTable, element);\n",
              "          const docLink = document.createElement('div');\n",
              "          docLink.innerHTML = docLinkHtml;\n",
              "          element.appendChild(docLink);\n",
              "        }\n",
              "      </script>\n",
              "    </div>\n",
              "  </div>\n",
              "  "
            ]
          },
          "metadata": {},
          "execution_count": 4
        }
      ]
    },
    {
      "cell_type": "markdown",
      "source": [
        "### Dispersión de la variables con respecto a Sales."
      ],
      "metadata": {
        "id": "F0kB0zVodCux"
      }
    },
    {
      "cell_type": "code",
      "source": [
        "sns.pairplot(datos, x_vars=['TV','Radio','Newspaper', 'Web'], y_vars='Sales', size=7, aspect=0.8,kind = 'reg')\n",
        "plt.savefig(\"pairplot.jpg\")\n",
        "plt.show()"
      ],
      "metadata": {
        "colab": {
          "base_uri": "https://localhost:8080/",
          "height": 429
        },
        "id": "cz03j3EPdDsU",
        "outputId": "74b7c7f8-699d-46b7-85c9-5713126aaf9e"
      },
      "execution_count": 5,
      "outputs": [
        {
          "output_type": "stream",
          "name": "stderr",
          "text": [
            "/usr/local/lib/python3.7/dist-packages/seaborn/axisgrid.py:2076: UserWarning: The `size` parameter has been renamed to `height`; please update your code.\n",
            "  warnings.warn(msg, UserWarning)\n"
          ]
        },
        {
          "output_type": "display_data",
          "data": {
            "text/plain": [
              "<Figure size 1612.8x504 with 4 Axes>"
            ],
            "image/png": "[encoded data removed]"
          },
          "metadata": {
            "needs_background": "light"
          }
        }
      ]
    },
    {
      "cell_type": "markdown",
      "source": [
        "Se observa la relación lineal entre las variables independientes con respecto a ventas, de tal forma que es posible estimar visualmente que la variable Newspaper tal vez tenga poco impacto en las ventas esto por la alta dispersión de los datos. Sin embargo participará en el modelo de regresión lineal múltiple.\n",
        "\n",
        "Se observa también que la variable *Web* tiene poca correlación lineal con la variable *Sales*"
      ],
      "metadata": {
        "id": "C2EENtKFdNK_"
      }
    },
    {
      "cell_type": "markdown",
      "source": [
        "### Identificar variables independientes y dependiente\n",
        "\n",
        "Quitar las primeras columnas y dejar TV Radio NewsPaper Web y Sales"
      ],
      "metadata": {
        "id": "eHKC0XKOdaF8"
      }
    },
    {
      "cell_type": "code",
      "source": [
        "print(\"Variables independientes \")\n",
        "X_independientes = datos.iloc[:,2:6]\n",
        "X_independientes"
      ],
      "metadata": {
        "colab": {
          "base_uri": "https://localhost:8080/",
          "height": 441
        },
        "id": "863Ys7JFdcYB",
        "outputId": "3ddf84ad-3b28-4124-dcfd-ab1a400480a1"
      },
      "execution_count": 6,
      "outputs": [
        {
          "output_type": "stream",
          "name": "stdout",
          "text": [
            "Variables independientes \n"
          ]
        },
        {
          "output_type": "execute_result",
          "data": {
            "text/plain": [
              "        TV  Radio  Newspaper         Web\n",
              "0    230.1   37.8       69.2  306.634752\n",
              "1     44.5   39.3       45.1  302.653070\n",
              "2     17.2   45.9       69.3   49.498908\n",
              "3    151.5   41.3       58.5  257.816893\n",
              "4    180.8   10.8       58.4  195.660076\n",
              "..     ...    ...        ...         ...\n",
              "195   38.2    3.7       13.8  248.841073\n",
              "196   94.2    4.9        8.1  118.041856\n",
              "197  177.0    9.3        6.4  213.274671\n",
              "198  283.6   42.0       66.2  237.498063\n",
              "199  232.1    8.6        8.7  151.990733\n",
              "\n",
              "[200 rows x 4 columns]"
            ],
            "text/html": [
              "\n",
              "  <div id=\"df-091aaded-9213-4eea-a5cc-1c1401bc5c62\">\n",
              "    <div class=\"colab-df-container\">\n",
              "      <div>\n",
              "<style scoped>\n",
              "    .dataframe tbody tr th:only-of-type {\n",
              "        vertical-align: middle;\n",
              "    }\n",
              "\n",
              "    .dataframe tbody tr th {\n",
              "        vertical-align: top;\n",
              "    }\n",
              "\n",
              "    .dataframe thead th {\n",
              "        text-align: right;\n",
              "    }\n",
              "</style>\n",
              "<table border=\"1\" class=\"dataframe\">\n",
              "  <thead>\n",
              "    <tr style=\"text-align: right;\">\n",
              "      <th></th>\n",
              "      <th>TV</th>\n",
              "      <th>Radio</th>\n",
              "      <th>Newspaper</th>\n",
              "      <th>Web</th>\n",
              "    </tr>\n",
              "  </thead>\n",
              "  <tbody>\n",
              "    <tr>\n",
              "      <th>0</th>\n",
              "      <td>230.1</td>\n",
              "      <td>37.8</td>\n",
              "      <td>69.2</td>\n",
              "      <td>306.634752</td>\n",
              "    </tr>\n",
              "    <tr>\n",
              "      <th>1</th>\n",
              "      <td>44.5</td>\n",
              "      <td>39.3</td>\n",
              "      <td>45.1</td>\n",
              "      <td>302.653070</td>\n",
              "    </tr>\n",
              "    <tr>\n",
              "      <th>2</th>\n",
              "      <td>17.2</td>\n",
              "      <td>45.9</td>\n",
              "      <td>69.3</td>\n",
              "      <td>49.498908</td>\n",
              "    </tr>\n",
              "    <tr>\n",
              "      <th>3</th>\n",
              "      <td>151.5</td>\n",
              "      <td>41.3</td>\n",
              "      <td>58.5</td>\n",
              "      <td>257.816893</td>\n",
              "    </tr>\n",
              "    <tr>\n",
              "      <th>4</th>\n",
              "      <td>180.8</td>\n",
              "      <td>10.8</td>\n",
              "      <td>58.4</td>\n",
              "      <td>195.660076</td>\n",
              "    </tr>\n",
              "    <tr>\n",
              "      <th>...</th>\n",
              "      <td>...</td>\n",
              "      <td>...</td>\n",
              "      <td>...</td>\n",
              "      <td>...</td>\n",
              "    </tr>\n",
              "    <tr>\n",
              "      <th>195</th>\n",
              "      <td>38.2</td>\n",
              "      <td>3.7</td>\n",
              "      <td>13.8</td>\n",
              "      <td>248.841073</td>\n",
              "    </tr>\n",
              "    <tr>\n",
              "      <th>196</th>\n",
              "      <td>94.2</td>\n",
              "      <td>4.9</td>\n",
              "      <td>8.1</td>\n",
              "      <td>118.041856</td>\n",
              "    </tr>\n",
              "    <tr>\n",
              "      <th>197</th>\n",
              "      <td>177.0</td>\n",
              "      <td>9.3</td>\n",
              "      <td>6.4</td>\n",
              "      <td>213.274671</td>\n",
              "    </tr>\n",
              "    <tr>\n",
              "      <th>198</th>\n",
              "      <td>283.6</td>\n",
              "      <td>42.0</td>\n",
              "      <td>66.2</td>\n",
              "      <td>237.498063</td>\n",
              "    </tr>\n",
              "    <tr>\n",
              "      <th>199</th>\n",
              "      <td>232.1</td>\n",
              "      <td>8.6</td>\n",
              "      <td>8.7</td>\n",
              "      <td>151.990733</td>\n",
              "    </tr>\n",
              "  </tbody>\n",
              "</table>\n",
              "<p>200 rows × 4 columns</p>\n",
              "</div>\n",
              "      <button class=\"colab-df-convert\" onclick=\"convertToInteractive('df-091aaded-9213-4eea-a5cc-1c1401bc5c62')\"\n",
              "              title=\"Convert this dataframe to an interactive table.\"\n",
              "              style=\"display:none;\">\n",
              "        \n",
              "  <svg xmlns=\"http://www.w3.org/2000/svg\" height=\"24px\"viewBox=\"0 0 24 24\"\n",
              "       width=\"24px\">\n",
              "    <path d=\"M0 0h24v24H0V0z\" fill=\"none\"/>\n",
              "    <path d=\"M18.56 5.44l.94 2.06.94-2.06 2.06-.94-2.06-.94-.94-2.06-.94 2.06-2.06.94zm-11 1L8.5 8.5l.94-2.06 2.06-.94-2.06-.94L8.5 2.5l-.94 2.06-2.06.94zm10 10l.94 2.06.94-2.06 2.06-.94-2.06-.94-.94-2.06-.94 2.06-2.06.94z\"/><path d=\"M17.41 7.96l-1.37-1.37c-.4-.4-.92-.59-1.43-.59-.52 0-1.04.2-1.43.59L10.3 9.45l-7.72 7.72c-.78.78-.78 2.05 0 2.83L4 21.41c.39.39.9.59 1.41.59.51 0 1.02-.2 1.41-.59l7.78-7.78 2.81-2.81c.8-.78.8-2.07 0-2.86zM5.41 20L4 18.59l7.72-7.72 1.47 1.35L5.41 20z\"/>\n",
              "  </svg>\n",
              "      </button>\n",
              "      \n",
              "  <style>\n",
              "    .colab-df-container {\n",
              "      display:flex;\n",
              "      flex-wrap:wrap;\n",
              "      gap: 12px;\n",
              "    }\n",
              "\n",
              "    .colab-df-convert {\n",
              "      background-color: #E8F0FE;\n",
              "      border: none;\n",
              "      border-radius: 50%;\n",
              "      cursor: pointer;\n",
              "      display: none;\n",
              "      fill: #1967D2;\n",
              "      height: 32px;\n",
              "      padding: 0 0 0 0;\n",
              "      width: 32px;\n",
              "    }\n",
              "\n",
              "    .colab-df-convert:hover {\n",
              "      background-color: #E2EBFA;\n",
              "      box-shadow: 0px 1px 2px rgba(60, 64, 67, 0.3), 0px 1px 3px 1px rgba(60, 64, 67, 0.15);\n",
              "      fill: #174EA6;\n",
              "    }\n",
              "\n",
              "    [theme=dark] .colab-df-convert {\n",
              "      background-color: #3B4455;\n",
              "      fill: #D2E3FC;\n",
              "    }\n",
              "\n",
              "    [theme=dark] .colab-df-convert:hover {\n",
              "      background-color: #434B5C;\n",
              "      box-shadow: 0px 1px 3px 1px rgba(0, 0, 0, 0.15);\n",
              "      filter: drop-shadow(0px 1px 2px rgba(0, 0, 0, 0.3));\n",
              "      fill: #FFFFFF;\n",
              "    }\n",
              "  </style>\n",
              "\n",
              "      <script>\n",
              "        const buttonEl =\n",
              "          document.querySelector('#df-091aaded-9213-4eea-a5cc-1c1401bc5c62 button.colab-df-convert');\n",
              "        buttonEl.style.display =\n",
              "          google.colab.kernel.accessAllowed ? 'block' : 'none';\n",
              "\n",
              "        async function convertToInteractive(key) {\n",
              "          const element = document.querySelector('#df-091aaded-9213-4eea-a5cc-1c1401bc5c62');\n",
              "          const dataTable =\n",
              "            await google.colab.kernel.invokeFunction('convertToInteractive',\n",
              "                                                     [key], {});\n",
              "          if (!dataTable) return;\n",
              "\n",
              "          const docLinkHtml = 'Like what you see? Visit the ' +\n",
              "            '<a target=\"_blank\" href=https://colab.research.google.com/notebooks/data_table.ipynb>data table notebook</a>'\n",
              "            + ' to learn more about interactive tables.';\n",
              "          element.innerHTML = '';\n",
              "          dataTable['output_type'] = 'display_data';\n",
              "          await google.colab.output.renderOutput(dataTable, element);\n",
              "          const docLink = document.createElement('div');\n",
              "          docLink.innerHTML = docLinkHtml;\n",
              "          element.appendChild(docLink);\n",
              "        }\n",
              "      </script>\n",
              "    </div>\n",
              "  </div>\n",
              "  "
            ]
          },
          "metadata": {},
          "execution_count": 6
        }
      ]
    },
    {
      "cell_type": "code",
      "source": [
        "print (\"Variable dependiente\")\n",
        "Y_dependiente = datos.iloc[:, 6:7]\n",
        "Y_dependiente"
      ],
      "metadata": {
        "colab": {
          "base_uri": "https://localhost:8080/",
          "height": 441
        },
        "id": "oRzvsUErdfdZ",
        "outputId": "f413d391-8f60-4699-eaeb-169219671dd5"
      },
      "execution_count": 7,
      "outputs": [
        {
          "output_type": "stream",
          "name": "stdout",
          "text": [
            "Variable dependiente\n"
          ]
        },
        {
          "output_type": "execute_result",
          "data": {
            "text/plain": [
              "     Sales\n",
              "0     22.1\n",
              "1     10.4\n",
              "2      9.3\n",
              "3     18.5\n",
              "4     12.9\n",
              "..     ...\n",
              "195    7.6\n",
              "196    9.7\n",
              "197   12.8\n",
              "198   25.5\n",
              "199   13.4\n",
              "\n",
              "[200 rows x 1 columns]"
            ],
            "text/html": [
              "\n",
              "  <div id=\"df-4dc0d09d-75b7-4515-bf73-f40723e0c982\">\n",
              "    <div class=\"colab-df-container\">\n",
              "      <div>\n",
              "<style scoped>\n",
              "    .dataframe tbody tr th:only-of-type {\n",
              "        vertical-align: middle;\n",
              "    }\n",
              "\n",
              "    .dataframe tbody tr th {\n",
              "        vertical-align: top;\n",
              "    }\n",
              "\n",
              "    .dataframe thead th {\n",
              "        text-align: right;\n",
              "    }\n",
              "</style>\n",
              "<table border=\"1\" class=\"dataframe\">\n",
              "  <thead>\n",
              "    <tr style=\"text-align: right;\">\n",
              "      <th></th>\n",
              "      <th>Sales</th>\n",
              "    </tr>\n",
              "  </thead>\n",
              "  <tbody>\n",
              "    <tr>\n",
              "      <th>0</th>\n",
              "      <td>22.1</td>\n",
              "    </tr>\n",
              "    <tr>\n",
              "      <th>1</th>\n",
              "      <td>10.4</td>\n",
              "    </tr>\n",
              "    <tr>\n",
              "      <th>2</th>\n",
              "      <td>9.3</td>\n",
              "    </tr>\n",
              "    <tr>\n",
              "      <th>3</th>\n",
              "      <td>18.5</td>\n",
              "    </tr>\n",
              "    <tr>\n",
              "      <th>4</th>\n",
              "      <td>12.9</td>\n",
              "    </tr>\n",
              "    <tr>\n",
              "      <th>...</th>\n",
              "      <td>...</td>\n",
              "    </tr>\n",
              "    <tr>\n",
              "      <th>195</th>\n",
              "      <td>7.6</td>\n",
              "    </tr>\n",
              "    <tr>\n",
              "      <th>196</th>\n",
              "      <td>9.7</td>\n",
              "    </tr>\n",
              "    <tr>\n",
              "      <th>197</th>\n",
              "      <td>12.8</td>\n",
              "    </tr>\n",
              "    <tr>\n",
              "      <th>198</th>\n",
              "      <td>25.5</td>\n",
              "    </tr>\n",
              "    <tr>\n",
              "      <th>199</th>\n",
              "      <td>13.4</td>\n",
              "    </tr>\n",
              "  </tbody>\n",
              "</table>\n",
              "<p>200 rows × 1 columns</p>\n",
              "</div>\n",
              "      <button class=\"colab-df-convert\" onclick=\"convertToInteractive('df-4dc0d09d-75b7-4515-bf73-f40723e0c982')\"\n",
              "              title=\"Convert this dataframe to an interactive table.\"\n",
              "              style=\"display:none;\">\n",
              "        \n",
              "  <svg xmlns=\"http://www.w3.org/2000/svg\" height=\"24px\"viewBox=\"0 0 24 24\"\n",
              "       width=\"24px\">\n",
              "    <path d=\"M0 0h24v24H0V0z\" fill=\"none\"/>\n",
              "    <path d=\"M18.56 5.44l.94 2.06.94-2.06 2.06-.94-2.06-.94-.94-2.06-.94 2.06-2.06.94zm-11 1L8.5 8.5l.94-2.06 2.06-.94-2.06-.94L8.5 2.5l-.94 2.06-2.06.94zm10 10l.94 2.06.94-2.06 2.06-.94-2.06-.94-.94-2.06-.94 2.06-2.06.94z\"/><path d=\"M17.41 7.96l-1.37-1.37c-.4-.4-.92-.59-1.43-.59-.52 0-1.04.2-1.43.59L10.3 9.45l-7.72 7.72c-.78.78-.78 2.05 0 2.83L4 21.41c.39.39.9.59 1.41.59.51 0 1.02-.2 1.41-.59l7.78-7.78 2.81-2.81c.8-.78.8-2.07 0-2.86zM5.41 20L4 18.59l7.72-7.72 1.47 1.35L5.41 20z\"/>\n",
              "  </svg>\n",
              "      </button>\n",
              "      \n",
              "  <style>\n",
              "    .colab-df-container {\n",
              "      display:flex;\n",
              "      flex-wrap:wrap;\n",
              "      gap: 12px;\n",
              "    }\n",
              "\n",
              "    .colab-df-convert {\n",
              "      background-color: #E8F0FE;\n",
              "      border: none;\n",
              "      border-radius: 50%;\n",
              "      cursor: pointer;\n",
              "      display: none;\n",
              "      fill: #1967D2;\n",
              "      height: 32px;\n",
              "      padding: 0 0 0 0;\n",
              "      width: 32px;\n",
              "    }\n",
              "\n",
              "    .colab-df-convert:hover {\n",
              "      background-color: #E2EBFA;\n",
              "      box-shadow: 0px 1px 2px rgba(60, 64, 67, 0.3), 0px 1px 3px 1px rgba(60, 64, 67, 0.15);\n",
              "      fill: #174EA6;\n",
              "    }\n",
              "\n",
              "    [theme=dark] .colab-df-convert {\n",
              "      background-color: #3B4455;\n",
              "      fill: #D2E3FC;\n",
              "    }\n",
              "\n",
              "    [theme=dark] .colab-df-convert:hover {\n",
              "      background-color: #434B5C;\n",
              "      box-shadow: 0px 1px 3px 1px rgba(0, 0, 0, 0.15);\n",
              "      filter: drop-shadow(0px 1px 2px rgba(0, 0, 0, 0.3));\n",
              "      fill: #FFFFFF;\n",
              "    }\n",
              "  </style>\n",
              "\n",
              "      <script>\n",
              "        const buttonEl =\n",
              "          document.querySelector('#df-4dc0d09d-75b7-4515-bf73-f40723e0c982 button.colab-df-convert');\n",
              "        buttonEl.style.display =\n",
              "          google.colab.kernel.accessAllowed ? 'block' : 'none';\n",
              "\n",
              "        async function convertToInteractive(key) {\n",
              "          const element = document.querySelector('#df-4dc0d09d-75b7-4515-bf73-f40723e0c982');\n",
              "          const dataTable =\n",
              "            await google.colab.kernel.invokeFunction('convertToInteractive',\n",
              "                                                     [key], {});\n",
              "          if (!dataTable) return;\n",
              "\n",
              "          const docLinkHtml = 'Like what you see? Visit the ' +\n",
              "            '<a target=\"_blank\" href=https://colab.research.google.com/notebooks/data_table.ipynb>data table notebook</a>'\n",
              "            + ' to learn more about interactive tables.';\n",
              "          element.innerHTML = '';\n",
              "          dataTable['output_type'] = 'display_data';\n",
              "          await google.colab.output.renderOutput(dataTable, element);\n",
              "          const docLink = document.createElement('div');\n",
              "          docLink.innerHTML = docLinkHtml;\n",
              "          element.appendChild(docLink);\n",
              "        }\n",
              "      </script>\n",
              "    </div>\n",
              "  </div>\n",
              "  "
            ]
          },
          "metadata": {},
          "execution_count": 7
        }
      ]
    },
    {
      "cell_type": "markdown",
      "source": [
        "## Datos de entrenamiento y datos de validación\n",
        "\n",
        "Se utiliza semilla 1747(*random_state=1747*)"
      ],
      "metadata": {
        "id": "6Lqu45mjdnKq"
      }
    },
    {
      "cell_type": "code",
      "source": [
        "X_entrena,X_valida,Y_entrena,Y_valida = train_test_split(X_independientes, Y_dependiente,train_size=.70,  random_state=1747)"
      ],
      "metadata": {
        "id": "IIOl5Mm2ds1t"
      },
      "execution_count": 8,
      "outputs": []
    },
    {
      "cell_type": "markdown",
      "source": [
        "### Datos de entrenamiento"
      ],
      "metadata": {
        "id": "3Y1FfDabd3tF"
      }
    },
    {
      "cell_type": "code",
      "source": [
        "print(\"Estructura de datos de entrenamiento... \", X_entrena.shape)\n",
        "print(X_entrena)\n",
        "print(X_entrena[['TV']], X_entrena[['Radio']], X_entrena[['Newspaper']])"
      ],
      "metadata": {
        "colab": {
          "base_uri": "https://localhost:8080/"
        },
        "id": "Prr8WKlkd4X6",
        "outputId": "39cca36d-ffc5-4539-bb50-9342e3c8aaf5"
      },
      "execution_count": 9,
      "outputs": [
        {
          "output_type": "stream",
          "name": "stdout",
          "text": [
            "Estructura de datos de entrenamiento...  (140, 4)\n",
            "        TV  Radio  Newspaper         Web\n",
            "52   216.4   41.7       39.6  161.802512\n",
            "159  131.7   18.4       34.6  196.370304\n",
            "15   195.4   47.7       52.9  148.095134\n",
            "5      8.7   48.9       75.0   22.072395\n",
            "175  276.9   48.9       41.8  151.990733\n",
            "..     ...    ...        ...         ...\n",
            "158   11.7   36.9       45.2  185.866079\n",
            "24    62.3   12.6       18.3  256.965240\n",
            "143  104.6    5.7       34.4  336.571095\n",
            "33   265.6   20.0        0.3   94.207255\n",
            "67   139.3   14.5       10.2  207.661990\n",
            "\n",
            "[140 rows x 4 columns]\n",
            "        TV\n",
            "52   216.4\n",
            "159  131.7\n",
            "15   195.4\n",
            "5      8.7\n",
            "175  276.9\n",
            "..     ...\n",
            "158   11.7\n",
            "24    62.3\n",
            "143  104.6\n",
            "33   265.6\n",
            "67   139.3\n",
            "\n",
            "[140 rows x 1 columns]      Radio\n",
            "52    41.7\n",
            "159   18.4\n",
            "15    47.7\n",
            "5     48.9\n",
            "175   48.9\n",
            "..     ...\n",
            "158   36.9\n",
            "24    12.6\n",
            "143    5.7\n",
            "33    20.0\n",
            "67    14.5\n",
            "\n",
            "[140 rows x 1 columns]      Newspaper\n",
            "52        39.6\n",
            "159       34.6\n",
            "15        52.9\n",
            "5         75.0\n",
            "175       41.8\n",
            "..         ...\n",
            "158       45.2\n",
            "24        18.3\n",
            "143       34.4\n",
            "33         0.3\n",
            "67        10.2\n",
            "\n",
            "[140 rows x 1 columns]\n"
          ]
        }
      ]
    },
    {
      "cell_type": "markdown",
      "source": [
        "## Modelo de Regresión lineal múltiple\n",
        "\n",
        "Se construye el modelo de regresión lineal mútiple"
      ],
      "metadata": {
        "id": "uYzoThJ_d_Hi"
      }
    },
    {
      "cell_type": "code",
      "source": [
        "modelo_rm = LinearRegression()\n",
        " \n",
        "modelo_rm.fit(X_entrena,Y_entrena)"
      ],
      "metadata": {
        "colab": {
          "base_uri": "https://localhost:8080/"
        },
        "id": "vNE0_PqceBWQ",
        "outputId": "60889081-7e3d-4461-cd95-7e5bf7a84d16"
      },
      "execution_count": 10,
      "outputs": [
        {
          "output_type": "execute_result",
          "data": {
            "text/plain": [
              "LinearRegression()"
            ]
          },
          "metadata": {},
          "execution_count": 10
        }
      ]
    },
    {
      "cell_type": "markdown",
      "source": [
        "### Evaluación del modelo antes de predicciones\n",
        "\n",
        "Se presentan los coeficientes, la intersección $\\beta_0$ y los coeficientes para cada variable independiente, $\\beta_1, \\beta_2,\\beta_3, \\text{ y } \\beta_4$"
      ],
      "metadata": {
        "id": "EH1q0IhweES3"
      }
    },
    {
      "cell_type": "code",
      "source": [
        "print (\"Intercepción o b0\") \n",
        "b0 = modelo_rm.intercept_\n",
        "print (b0)\n",
        "print (\"Coeficientes: b1, b2, b3 y b4\") \n",
        "# print (modelo_rm.coef_)\n",
        "b1 = modelo_rm.coef_[0, 0:1]\n",
        "b2 = modelo_rm.coef_[0, 1:2]\n",
        "b3 = modelo_rm.coef_[0, 2:3]\n",
        "b4 = modelo_rm.coef_[0, 3:4]\n",
        "print (b1, b2, b3, b4)"
      ],
      "metadata": {
        "colab": {
          "base_uri": "https://localhost:8080/"
        },
        "id": "JCbPWwKWeG8A",
        "outputId": "515857af-41a8-4cd6-b241-98a50bda5a89"
      },
      "execution_count": 11,
      "outputs": [
        {
          "output_type": "stream",
          "name": "stdout",
          "text": [
            "Intercepción o b0\n",
            "[2.31361065]\n",
            "Coeficientes: b1, b2, b3 y b4\n",
            "[0.04654742] [0.18302642] [-0.00050635] [0.00434896]\n"
          ]
        }
      ]
    },
    {
      "cell_type": "markdown",
      "source": [
        "$$\n",
        "Prediccion:\\text { Y} = b_0 + b_1\\cdot {x_1} + b_2\\cdot{x_2} + b_3\\cdot{x_3}+b_3\\cdot{x_4}\n",
        "$$\n",
        "\n",
        "$$\n",
        "\\text{Prediccion Sales} :\\text { Y} = b_0 + b_1\\cdot {TV} + b_2\\cdot{Radio} + b_3\\cdot{Newspaper}+b_3\\cdot{Web}\n",
        "$$"
      ],
      "metadata": {
        "id": "H8oTv8zyeLfW"
      }
    },
    {
      "cell_type": "markdown",
      "source": [
        "### R Square y R Square ajustado a a partir del modelo\n",
        "\n",
        "Sobrepasa el 80% de tal forma que el el modelo **SE ACEPTA** por este criterio."
      ],
      "metadata": {
        "id": "sw0OJ6fWePKU"
      }
    },
    {
      "cell_type": "code",
      "source": [
        "print(modelo_rm.score(X_entrena, Y_entrena))"
      ],
      "metadata": {
        "colab": {
          "base_uri": "https://localhost:8080/"
        },
        "id": "c2K2NtJieRW9",
        "outputId": "10e88598-9020-4270-d720-0b3a7cf8b312"
      },
      "execution_count": 12,
      "outputs": [
        {
          "output_type": "stream",
          "name": "stdout",
          "text": [
            "0.8974853899748444\n"
          ]
        }
      ]
    },
    {
      "cell_type": "markdown",
      "source": [
        "## Predicciones\n",
        "\n",
        "Se hacen predicciones con los datos de validación"
      ],
      "metadata": {
        "id": "MnfVSXJReUaH"
      }
    },
    {
      "cell_type": "code",
      "source": [
        "predicciones = modelo_rm.predict(X_valida)\n",
        "print(predicciones[:-1])\n",
        "print(predicciones.shape)"
      ],
      "metadata": {
        "colab": {
          "base_uri": "https://localhost:8080/"
        },
        "id": "mHPI4XhFeVVa",
        "outputId": "c3e9e916-580c-40fb-8bea-7d06397b1fc9"
      },
      "execution_count": 13,
      "outputs": [
        {
          "output_type": "stream",
          "name": "stdout",
          "text": [
            "[[ 8.30313928]\n",
            " [ 9.59518527]\n",
            " [12.4157793 ]\n",
            " [10.58062669]\n",
            " [16.22753094]\n",
            " [13.38327877]\n",
            " [10.19585773]\n",
            " [13.17893148]\n",
            " [16.39235128]\n",
            " [12.62797799]\n",
            " [17.78312561]\n",
            " [21.21646544]\n",
            " [20.16408787]\n",
            " [ 8.92196753]\n",
            " [19.65955732]\n",
            " [ 4.38529696]\n",
            " [12.18492808]\n",
            " [12.7571027 ]\n",
            " [17.51489658]\n",
            " [ 6.62472709]\n",
            " [17.41540544]\n",
            " [ 9.23262438]\n",
            " [14.05744318]\n",
            " [14.62109575]\n",
            " [14.54266865]\n",
            " [17.52683886]\n",
            " [21.29241557]\n",
            " [20.10569415]\n",
            " [12.56283732]\n",
            " [22.34983733]\n",
            " [18.17058205]\n",
            " [21.24107293]\n",
            " [16.08307724]\n",
            " [13.96503229]\n",
            " [18.25724551]\n",
            " [11.77942829]\n",
            " [10.16526665]\n",
            " [10.68177222]\n",
            " [14.19019678]\n",
            " [14.83936296]\n",
            " [ 3.72670265]\n",
            " [16.19945688]\n",
            " [15.61332585]\n",
            " [ 9.2226156 ]\n",
            " [20.22880276]\n",
            " [18.11977309]\n",
            " [18.66072902]\n",
            " [17.41054301]\n",
            " [12.102045  ]\n",
            " [18.88108114]\n",
            " [24.20551506]\n",
            " [21.00799452]\n",
            " [15.34788976]\n",
            " [23.24080765]\n",
            " [12.3940616 ]\n",
            " [10.97441962]\n",
            " [16.24280289]\n",
            " [10.19287945]\n",
            " [17.6332805 ]]\n",
            "(60, 1)\n"
          ]
        }
      ]
    },
    {
      "cell_type": "markdown",
      "source": [
        "## Evaluar predicciones\n",
        "\n",
        "Crear un data.frame llamado comparaciones a partir de la creación de un diccionario con los valores reales del conjunto de entrenamiento y las predicciones calculadas.\n",
        "\n",
        "Se usa el *type()* para conocer el tipo de estructura de datos\n",
        "\n",
        "Se usa el *assign()* para agregar columnas al df comparaciones\n",
        "\n",
        "Se usa *flatten().tolist()* para convertir a una lista de una dimensión.\n",
        "\n",
        "Al final se tiene un d*ata.frame* llamado comparaciones en donde las últimas columnas tienen los valores reales de 'Sales' y las predicciones en la variable 'Predicho'."
      ],
      "metadata": {
        "id": "y1P3NpBVebYk"
      }
    },
    {
      "cell_type": "code",
      "source": [
        "print(type(X_valida))\n",
        "# print(X_valida)\n",
        "print(type(predicciones))\n",
        "# print(predicciones)\n",
        "comparaciones = pd.DataFrame(X_valida)\n",
        "comparaciones = comparaciones.assign(Sales_Real = Y_valida)\n",
        "comparaciones = comparaciones.assign(Predicho = predicciones.flatten().tolist())\n",
        "print(comparaciones)"
      ],
      "metadata": {
        "colab": {
          "base_uri": "https://localhost:8080/"
        },
        "id": "fcuHtALnefI9",
        "outputId": "6496ab61-29ac-4c32-c968-34c0f0b1e522"
      },
      "execution_count": 14,
      "outputs": [
        {
          "output_type": "stream",
          "name": "stdout",
          "text": [
            "<class 'pandas.core.frame.DataFrame'>\n",
            "<class 'numpy.ndarray'>\n",
            "        TV  Radio  Newspaper         Web  Sales_Real   Predicho\n",
            "56     7.3   28.1       41.4  121.328525         5.5   8.303139\n",
            "140   73.4   17.0       12.9  174.772137        10.9   9.595185\n",
            "116  139.2   14.3       25.6  234.183118        12.2  12.415779\n",
            "90   134.3    4.9        9.3  258.355488        11.2  10.580627\n",
            "194  149.7   35.6        6.0   99.579981        17.3  16.227531\n",
            "167  206.8    5.2       19.4  115.371957        12.2  13.383279\n",
            "145  140.3    1.9        9.0  231.883385        10.3  10.195858\n",
            "197  177.0    9.3        6.4  213.274671        12.8  13.178931\n",
            "99   135.2   41.7       45.9   40.600350        17.2  16.392351\n",
            "190   39.5   41.1        5.8  219.890583        10.8  12.627978\n",
            "20   218.4   27.7       53.4   59.960554        18.0  17.783126\n",
            "54   262.7   28.8       15.9  324.615179        20.2  21.216465\n",
            "104  238.2   34.3        5.3  112.155489        20.7  20.164088\n",
            "51   100.4    9.6        3.6   41.335255        10.7   8.921968\n",
            "68   237.4   27.5       11.0  291.548597        18.9  19.659557\n",
            "76    27.5    1.6       20.7  117.101925         6.9   4.385297\n",
            "88    88.3   25.5       73.4  260.101928        12.9  12.184928\n",
            "96   197.6    3.5        5.9  139.830544        11.7  12.757103\n",
            "168  215.4   23.6       57.6  203.431267        17.1  17.514897\n",
            "119   19.4   16.0       22.3  112.892609         6.6   6.624727\n",
            "11   214.7   24.0        4.0  164.971764        17.4  17.415405\n",
            "44    25.1   25.7       43.3  245.764410         8.5   9.232624\n",
            "120  141.3   26.8       46.2   65.525461        15.5  14.057443\n",
            "103  187.9   17.2       17.9   97.088630        14.7  14.621096\n",
            "160  172.5   18.1       30.7  207.496801        14.4  14.542669\n",
            "27   240.1   16.7       22.9  228.157437        15.9  17.526839\n",
            "111  241.7   38.0       23.2  180.511528        21.8  21.292416\n",
            "176  248.4   30.2       20.3  163.852044        20.2  20.105694\n",
            "9    199.8    2.6       21.2  111.272264        10.6  12.562837\n",
            "128  220.3   49.0        3.2  187.437060        24.7  22.349837\n",
            "169  284.3   10.6        6.4  157.900110        15.0  18.170582\n",
            "0    230.1   37.8       69.2  306.634752        22.1  21.241073\n",
            "48   227.2   15.8       49.9   75.269182        14.8  16.083077\n",
            "83    68.4   44.5       35.6   78.393104        13.6  13.965032\n",
            "150  280.7   13.9       37.0   81.040617        16.1  18.257246\n",
            "148   38.0   40.3       11.9   75.207978        10.9  11.779428\n",
            "144   96.2   14.8       38.9  157.440047        11.4  10.165267\n",
            "126    7.8   38.9       50.6  209.471977         6.6  10.681772\n",
            "171  164.5   20.9       47.4   96.180391        14.5  14.190197\n",
            "45   175.1   22.5       31.5   62.809264        14.9  14.839363\n",
            "8      8.6    2.1        1.0  144.617385         4.8   3.726703\n",
            "178  276.7    2.3       23.7  137.323772        11.8  16.199457\n",
            "85   193.2   18.4       65.7  223.578793        15.2  15.613326\n",
            "66    31.5   24.6        2.2  216.471397         9.5   9.222616\n",
            "28   248.8   27.1       22.9  318.644967        18.9  20.228803\n",
            "59   210.7   29.5        9.3  138.895554        18.4  18.119773\n",
            "142  220.5   33.2       37.9    6.007436        20.1  18.660729\n",
            "102  280.2   10.1       21.4   49.808451        14.8  17.410543\n",
            "177  170.2    7.8       35.2  104.917344        11.7  12.102045\n",
            "14   204.1   32.9       46.0  245.774960        19.0  18.881081\n",
            "183  287.6   43.0       71.8  154.309725        26.2  24.205515\n",
            "185  205.0   45.1       19.6  208.692690        22.6  21.007995\n",
            "199  232.1    8.6        8.7  151.990733        13.4  15.347890\n",
            "147  243.2   49.0       44.3  151.990733        25.4  23.240808\n",
            "173  168.4    7.1       12.8  218.180829        11.7  12.394062\n",
            "136   25.6   39.0        9.3   77.230797         9.5  10.974420\n",
            "23   228.3   16.9       26.2   51.170073        15.5  16.242803\n",
            "18    69.2   20.5       18.3  210.489910        11.3  10.192879\n",
            "62   239.3   15.5       27.3  312.209555        15.7  17.633280\n",
            "163  163.5   36.8        7.4   82.228794        18.0  17.013349\n"
          ]
        }
      ]
    },
    {
      "cell_type": "markdown",
      "source": [
        "### RMSE\n",
        "\n",
        "*rmse* Root Mean Stándard Error (*Root-mean-square deviation*), este valor normalmente se compara contra otro modelo y el que esté mas cerca de cero es mejor.\n",
        "\n",
        "La raiz del Error Cuadrático Medio (*rmse*) es una métrica que dice qué tan lejos están los valores predichos de los valores observados o reales en un análisis de regresión, en promedio. Se calcula como:\n",
        "\n",
        "$$\n",
        "rmse = \\sqrt{\\frac{\\sum(predicho_i - real_i)^{2}}{n}}\n",
        "$$\n",
        "\n",
        "*RMSE* es una forma útil de ver qué tan bien un modelo de regresión puede ajustarse a un conjunto de datos.\n",
        "\n",
        "Cuanto mayor sea el *rmse*, mayor será la diferencia entre los valores predichos y reales, lo que significa que peor se ajusta un modelo de regresión a los datos. Por el contrario, cuanto más pequeño sea el rmse, mejor podrá un modelo ajustar los datos.\n"
      ],
      "metadata": {
        "id": "-0heIbPMekVO"
      }
    },
    {
      "cell_type": "code",
      "source": [
        "print('Mean Squared Error: MSE', metrics.mean_squared_error(Y_valida, predicciones))\n",
        "print('Root Mean Squared Error RMSE:', np.sqrt(metrics.mean_squared_error(Y_valida, predicciones)))"
      ],
      "metadata": {
        "colab": {
          "base_uri": "https://localhost:8080/"
        },
        "id": "xrawZW33eoQ1",
        "outputId": "83e845b6-5dc3-49d6-ca0b-2fb019613b70"
      },
      "execution_count": 15,
      "outputs": [
        {
          "output_type": "stream",
          "name": "stdout",
          "text": [
            "Mean Squared Error: MSE 2.2818348327927103\n",
            "Root Mean Squared Error RMSE: 1.5105743387177972\n"
          ]
        }
      ]
    },
    {
      "cell_type": "markdown",
      "source": [
        "# Interpretación\n",
        "\n",
        "Pendiente ...\n",
        "\n",
        "Con este modelo y con estos datos interprete lo siguiente:\n",
        "\n",
        "-   ¿Cuál es el contexto de los datos?\n",
        "\n",
        "Ventas de productos según lo invertido en publicidad, ya sea en televisión, radio, periódico e internet.\n",
        "\n",
        "-   ¿Cuántas observaciones se analizan y cuáles son las variables de interés?\n",
        "\n",
        "Hay 200 observaciones y 5 variables de interés\n",
        "\n",
        "-   ¿Cuáles son las variables independientes y dependientes?\n",
        "\n",
        "Las variables independientes son: TV. Radio, Newspaper y Web.\n",
        "\n",
        "La variable dependiente es: Sales\n",
        "\n",
        "\n",
        "-   ¿Cuál es el porcentaje de datos de entrenamiento y datos de validación ?\n",
        "\n",
        "70% entrenamiento, 30% validación\n",
        "\n",
        "-   ¿Son los coeficientes confiables al menos al 90% para hacer predicciones?\n",
        "\n",
        "Para TV, Radio y web si, pero para Newspaper no\n",
        "\n",
        "-   ¿Cuál nivel de confianza para cada coeficiente?\n",
        "[0.04654742] [0.18302642] [-0.00050635] [0.00434896]\n",
        "\n",
        "-   ¿Que valor tiene el estadístico el *R Square* ajustado y que representa o qué significa?\n",
        "El valor de R Square ajustado es de 0.8974853899748444 y representa qué tan bien se ajusta el modelo a los datos\n",
        "-   ¿Cuál es el valor de *RMSE* y qué significaría este valor\n",
        "\n",
        "1.5105743387177972, es una forma útil de ver qué tan bien un modelo de regresión puede ajustarse a un conjunto de datos.\n",
        "\n",
        "-   ¿Puede haber otro modelo más óptimo para estos datos?\n",
        "\n",
        "-   ¿Que tan confiables son las predicciones con datos nuevos con este modelo y con estos datos?\n",
        "No son tan confiables como los del modelo creado en R\n",
        "\n",
        "-   Comparado con el modelo elaborado en lenguaje R cual tiene menor *rmse* y qué significa?\n",
        "\n",
        "El modelo realizado en R y indica un mejor ajuste"
      ],
      "metadata": {
        "id": "htVcI8RHeth3"
      }
    }
  ]
}