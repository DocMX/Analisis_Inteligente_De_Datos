{
  "nbformat": 4,
  "nbformat_minor": 0,
  "metadata": {
    "colab": {
      "provenance": [],
      "authorship_tag": "ABX9TyOrQVqChh1yoj6+4wWy9bxV",
      "include_colab_link": true
    },
    "kernelspec": {
      "name": "python3",
      "display_name": "Python 3"
    },
    "language_info": {
      "name": "python"
    }
  },
  "cells": [
    {
      "cell_type": "markdown",
      "metadata": {
        "id": "view-in-github",
        "colab_type": "text"
      },
      "source": [
        "<a href=\"https://colab.research.google.com/github/DocMX/Analisis_Inteligente_De_Datos/blob/main/Caso_2_Comparaci%C3%B3n_y_evaluaci%C3%B3n_de_m%C3%A9tricas_de_regresi%C3%B3n_lineal_simple_vs_regresi%C3%B3n_polinomial_con_datos_FIFA_Python.ipynb\" target=\"_parent\"><img src=\"https://colab.research.google.com/assets/colab-badge.svg\" alt=\"Open In Colab\"/></a>"
      ]
    },
    {
      "cell_type": "code",
      "execution_count": null,
      "metadata": {
        "id": "IDCEZ63tFnWh"
      },
      "outputs": [],
      "source": []
    },
    {
      "cell_type": "markdown",
      "source": [
        "# Author: \"JORGE LUIS VEGA HERNANDEZ\"\n",
        "# Date: \"15-09-2022\""
      ],
      "metadata": {
        "id": "6xPV1qlQFuWe"
      }
    },
    {
      "cell_type": "markdown",
      "source": [
        "# Objetivo\n",
        "\n",
        "Construir modelos de regresión lineal simple y polinómico importando datos FIFA con variable Overall y Valor para realizar predicciones evaluando y comparando su rendimiento en métricas incialmente establecidas."
      ],
      "metadata": {
        "id": "XqJFI7KYF6WI"
      }
    },
    {
      "cell_type": "markdown",
      "source": [
        "# Descripción\n",
        "\n",
        "* Cargar librerías\n",
        "\n",
        "* Cargar datos de FIFA\n",
        "\n",
        "* Métricas a evaluar\n",
        "\n",
        "* Explorar datos\n",
        "\n",
        "  * Variables independiente y dependiente\n",
        "\n",
        "  * Visualizar dispersión de los datos\n",
        "\n",
        "* Construir datos de entrenamiento y datos de validación.\n",
        "\n",
        "* Regresión Lineal Simple\n",
        "\n",
        "  * Construir el modelo\n",
        "\n",
        "  * Predicciones\n",
        "\n",
        "  * Metricas del modelo\n",
        "\n",
        "* Regresión Polinómica de segundo\n",
        "\n",
        "* Construir el modelo\n",
        "\n",
        "  * Predicciones\n",
        "\n",
        "  * Métricas del modelo\n",
        "\n",
        "* Regresión Polinómica de quinto nivel\n",
        "\n",
        "  * Construir el modelo\n",
        "\n",
        "  * Predicciones\n",
        "\n",
        "  * Métricas del modelo\n",
        "\n",
        "* Interpretación"
      ],
      "metadata": {
        "id": "NgQ1qv5PF9j_"
      }
    },
    {
      "cell_type": "markdown",
      "source": [
        "# Desarrollo\n"
      ],
      "metadata": {
        "id": "hkbO_CF9GAn6"
      }
    },
    {
      "cell_type": "markdown",
      "source": [
        "## Métricas a valorar en los modelos\n",
        "Se van a realizar y evaluar métricas de las predicciones con los modelos de regresión lineal simple y regresión polinómica con los mismos datos.\n",
        "\n",
        "Los modelos se aceptan si las métricas cumplen estos requisitos:\n",
        "\n",
        "* El valor de R Square y R Square ajustado sobrepasa el 50%,\n",
        "\n",
        "* Que sus variables sea estadísticamente significativas al 95%. Al menos un ‘*’\n",
        "\n",
        "* Que el valor de RMSE (Raiz del Error Estándar Medio) sea menor que : 2 000 000 (dos millones).\n",
        "\n",
        "Al final se deben comparar los modelos."
      ],
      "metadata": {
        "id": "br_ZFlw-GDNQ"
      }
    },
    {
      "cell_type": "markdown",
      "source": [
        "## Cargar librerías"
      ],
      "metadata": {
        "id": "LmA7I1_0GFxn"
      }
    },
    {
      "cell_type": "code",
      "source": [
        "import pandas as pd\n",
        "import numpy as np\n",
        "from sklearn import linear_model\n",
        "from sklearn.linear_model import LinearRegression\n",
        "from sklearn.preprocessing import PolynomialFeatures # Polinomial\n",
        "\n",
        "import matplotlib.pyplot as plt\n",
        "from sklearn.model_selection import train_test_split\n",
        "from sklearn import metrics\n",
        "from sklearn.metrics import mean_squared_error, r2_score\n",
        "#%matplotlib inline"
      ],
      "metadata": {
        "id": "0OIJr0TyGGxv"
      },
      "execution_count": 1,
      "outputs": []
    },
    {
      "cell_type": "markdown",
      "source": [
        "## Cargar datos\n",
        "\n",
        "Los datos se encuentran en la URL: https://raw.githubusercontent.com/rpizarrog/Analisis-Inteligente-de-datos/main/datos/datos.FIFA.limpios.csv\n"
      ],
      "metadata": {
        "id": "2ett1WOoGLGp"
      }
    },
    {
      "cell_type": "code",
      "source": [
        "datos = pd.read_csv(\"https://raw.githubusercontent.com/rpizarrog/Analisis-Inteligente-de-datos/main/datos/datos.limpios.csv\", encoding='latin1')\n",
        "datos"
      ],
      "metadata": {
        "colab": {
          "base_uri": "https://localhost:8080/",
          "height": 679
        },
        "id": "KT1WtXn4GME2",
        "outputId": "0bfce6e9-c8cf-4c9f-e9c8-e0a0329b23d3"
      },
      "execution_count": 2,
      "outputs": [
        {
          "output_type": "execute_result",
          "data": {
            "text/plain": [
              "       Unnamed: 0      X                Name  Age Nationality  Overall  \\\n",
              "0               1      1            L. Messi   31   Argentina       94   \n",
              "1               2      2   Cristiano Ronaldo   33    Portugal       94   \n",
              "2               3      3           Neymar Jr   26      Brazil       92   \n",
              "3               4      4              De Gea   27       Spain       91   \n",
              "4               5      5        K. De Bruyne   27     Belgium       91   \n",
              "...           ...    ...                 ...  ...         ...      ...   \n",
              "17902       17951  17951        J. Lundstram   19     England       47   \n",
              "17903       17952  17952  N. Christoffersson   19      Sweden       47   \n",
              "17904       17953  17953           B. Worman   16     England       47   \n",
              "17905       17954  17954      D. Walker-Rice   17     England       47   \n",
              "17906       17955  17955           G. Nugent   16     England       46   \n",
              "\n",
              "       Potential                 Club Preferred.Foot  \\\n",
              "0             94         FC Barcelona           Left   \n",
              "1             94             Juventus          Right   \n",
              "2             93  Paris Saint-Germain          Right   \n",
              "3             93    Manchester United          Right   \n",
              "4             92      Manchester City          Right   \n",
              "...          ...                  ...            ...   \n",
              "17902         65      Crewe Alexandra          Right   \n",
              "17903         63       Trelleborgs FF          Right   \n",
              "17904         67     Cambridge United          Right   \n",
              "17905         66      Tranmere Rovers          Right   \n",
              "17906         66      Tranmere Rovers          Right   \n",
              "\n",
              "       International.Reputation  ...  StandingTackle  SlidingTackle GKDiving  \\\n",
              "0                             5  ...              28             26        6   \n",
              "1                             5  ...              31             23        7   \n",
              "2                             5  ...              24             33        9   \n",
              "3                             4  ...              21             13       90   \n",
              "4                             4  ...              58             51       15   \n",
              "...                         ...  ...             ...            ...      ...   \n",
              "17902                         1  ...              48             47       10   \n",
              "17903                         1  ...              15             19       10   \n",
              "17904                         1  ...              13             11        6   \n",
              "17905                         1  ...              25             27       14   \n",
              "17906                         1  ...              43             50       10   \n",
              "\n",
              "      GKHandling  GKKicking  GKPositioning  GKReflexes      Valor  Estatura  \\\n",
              "0             11         15             14           8  110500000      1.70   \n",
              "1             11         15             14          11   77000000      1.88   \n",
              "2              9         15             15          11  118500000      1.75   \n",
              "3             85         87             88          94   72000000      1.93   \n",
              "4             13          5             10          13  102000000      1.80   \n",
              "...          ...        ...            ...         ...        ...       ...   \n",
              "17902         13          7              8           9      60000      1.75   \n",
              "17903          9          9              5          12      60000      1.91   \n",
              "17904          5         10              6          13      60000      1.73   \n",
              "17905          6         14              8           9      60000      1.78   \n",
              "17906         15          9             12           9      60000      1.78   \n",
              "\n",
              "       PesoKgs  \n",
              "0        72.12  \n",
              "1        83.01  \n",
              "2        68.04  \n",
              "3        76.20  \n",
              "4        69.85  \n",
              "...        ...  \n",
              "17902    60.78  \n",
              "17903    77.11  \n",
              "17904    67.13  \n",
              "17905    69.85  \n",
              "17906    79.83  \n",
              "\n",
              "[17907 rows x 51 columns]"
            ],
            "text/html": [
              "\n",
              "  <div id=\"df-f7365e47-f3f7-45ed-a687-03961790fd80\">\n",
              "    <div class=\"colab-df-container\">\n",
              "      <div>\n",
              "<style scoped>\n",
              "    .dataframe tbody tr th:only-of-type {\n",
              "        vertical-align: middle;\n",
              "    }\n",
              "\n",
              "    .dataframe tbody tr th {\n",
              "        vertical-align: top;\n",
              "    }\n",
              "\n",
              "    .dataframe thead th {\n",
              "        text-align: right;\n",
              "    }\n",
              "</style>\n",
              "<table border=\"1\" class=\"dataframe\">\n",
              "  <thead>\n",
              "    <tr style=\"text-align: right;\">\n",
              "      <th></th>\n",
              "      <th>Unnamed: 0</th>\n",
              "      <th>X</th>\n",
              "      <th>Name</th>\n",
              "      <th>Age</th>\n",
              "      <th>Nationality</th>\n",
              "      <th>Overall</th>\n",
              "      <th>Potential</th>\n",
              "      <th>Club</th>\n",
              "      <th>Preferred.Foot</th>\n",
              "      <th>International.Reputation</th>\n",
              "      <th>...</th>\n",
              "      <th>StandingTackle</th>\n",
              "      <th>SlidingTackle</th>\n",
              "      <th>GKDiving</th>\n",
              "      <th>GKHandling</th>\n",
              "      <th>GKKicking</th>\n",
              "      <th>GKPositioning</th>\n",
              "      <th>GKReflexes</th>\n",
              "      <th>Valor</th>\n",
              "      <th>Estatura</th>\n",
              "      <th>PesoKgs</th>\n",
              "    </tr>\n",
              "  </thead>\n",
              "  <tbody>\n",
              "    <tr>\n",
              "      <th>0</th>\n",
              "      <td>1</td>\n",
              "      <td>1</td>\n",
              "      <td>L. Messi</td>\n",
              "      <td>31</td>\n",
              "      <td>Argentina</td>\n",
              "      <td>94</td>\n",
              "      <td>94</td>\n",
              "      <td>FC Barcelona</td>\n",
              "      <td>Left</td>\n",
              "      <td>5</td>\n",
              "      <td>...</td>\n",
              "      <td>28</td>\n",
              "      <td>26</td>\n",
              "      <td>6</td>\n",
              "      <td>11</td>\n",
              "      <td>15</td>\n",
              "      <td>14</td>\n",
              "      <td>8</td>\n",
              "      <td>110500000</td>\n",
              "      <td>1.70</td>\n",
              "      <td>72.12</td>\n",
              "    </tr>\n",
              "    <tr>\n",
              "      <th>1</th>\n",
              "      <td>2</td>\n",
              "      <td>2</td>\n",
              "      <td>Cristiano Ronaldo</td>\n",
              "      <td>33</td>\n",
              "      <td>Portugal</td>\n",
              "      <td>94</td>\n",
              "      <td>94</td>\n",
              "      <td>Juventus</td>\n",
              "      <td>Right</td>\n",
              "      <td>5</td>\n",
              "      <td>...</td>\n",
              "      <td>31</td>\n",
              "      <td>23</td>\n",
              "      <td>7</td>\n",
              "      <td>11</td>\n",
              "      <td>15</td>\n",
              "      <td>14</td>\n",
              "      <td>11</td>\n",
              "      <td>77000000</td>\n",
              "      <td>1.88</td>\n",
              "      <td>83.01</td>\n",
              "    </tr>\n",
              "    <tr>\n",
              "      <th>2</th>\n",
              "      <td>3</td>\n",
              "      <td>3</td>\n",
              "      <td>Neymar Jr</td>\n",
              "      <td>26</td>\n",
              "      <td>Brazil</td>\n",
              "      <td>92</td>\n",
              "      <td>93</td>\n",
              "      <td>Paris Saint-Germain</td>\n",
              "      <td>Right</td>\n",
              "      <td>5</td>\n",
              "      <td>...</td>\n",
              "      <td>24</td>\n",
              "      <td>33</td>\n",
              "      <td>9</td>\n",
              "      <td>9</td>\n",
              "      <td>15</td>\n",
              "      <td>15</td>\n",
              "      <td>11</td>\n",
              "      <td>118500000</td>\n",
              "      <td>1.75</td>\n",
              "      <td>68.04</td>\n",
              "    </tr>\n",
              "    <tr>\n",
              "      <th>3</th>\n",
              "      <td>4</td>\n",
              "      <td>4</td>\n",
              "      <td>De Gea</td>\n",
              "      <td>27</td>\n",
              "      <td>Spain</td>\n",
              "      <td>91</td>\n",
              "      <td>93</td>\n",
              "      <td>Manchester United</td>\n",
              "      <td>Right</td>\n",
              "      <td>4</td>\n",
              "      <td>...</td>\n",
              "      <td>21</td>\n",
              "      <td>13</td>\n",
              "      <td>90</td>\n",
              "      <td>85</td>\n",
              "      <td>87</td>\n",
              "      <td>88</td>\n",
              "      <td>94</td>\n",
              "      <td>72000000</td>\n",
              "      <td>1.93</td>\n",
              "      <td>76.20</td>\n",
              "    </tr>\n",
              "    <tr>\n",
              "      <th>4</th>\n",
              "      <td>5</td>\n",
              "      <td>5</td>\n",
              "      <td>K. De Bruyne</td>\n",
              "      <td>27</td>\n",
              "      <td>Belgium</td>\n",
              "      <td>91</td>\n",
              "      <td>92</td>\n",
              "      <td>Manchester City</td>\n",
              "      <td>Right</td>\n",
              "      <td>4</td>\n",
              "      <td>...</td>\n",
              "      <td>58</td>\n",
              "      <td>51</td>\n",
              "      <td>15</td>\n",
              "      <td>13</td>\n",
              "      <td>5</td>\n",
              "      <td>10</td>\n",
              "      <td>13</td>\n",
              "      <td>102000000</td>\n",
              "      <td>1.80</td>\n",
              "      <td>69.85</td>\n",
              "    </tr>\n",
              "    <tr>\n",
              "      <th>...</th>\n",
              "      <td>...</td>\n",
              "      <td>...</td>\n",
              "      <td>...</td>\n",
              "      <td>...</td>\n",
              "      <td>...</td>\n",
              "      <td>...</td>\n",
              "      <td>...</td>\n",
              "      <td>...</td>\n",
              "      <td>...</td>\n",
              "      <td>...</td>\n",
              "      <td>...</td>\n",
              "      <td>...</td>\n",
              "      <td>...</td>\n",
              "      <td>...</td>\n",
              "      <td>...</td>\n",
              "      <td>...</td>\n",
              "      <td>...</td>\n",
              "      <td>...</td>\n",
              "      <td>...</td>\n",
              "      <td>...</td>\n",
              "      <td>...</td>\n",
              "    </tr>\n",
              "    <tr>\n",
              "      <th>17902</th>\n",
              "      <td>17951</td>\n",
              "      <td>17951</td>\n",
              "      <td>J. Lundstram</td>\n",
              "      <td>19</td>\n",
              "      <td>England</td>\n",
              "      <td>47</td>\n",
              "      <td>65</td>\n",
              "      <td>Crewe Alexandra</td>\n",
              "      <td>Right</td>\n",
              "      <td>1</td>\n",
              "      <td>...</td>\n",
              "      <td>48</td>\n",
              "      <td>47</td>\n",
              "      <td>10</td>\n",
              "      <td>13</td>\n",
              "      <td>7</td>\n",
              "      <td>8</td>\n",
              "      <td>9</td>\n",
              "      <td>60000</td>\n",
              "      <td>1.75</td>\n",
              "      <td>60.78</td>\n",
              "    </tr>\n",
              "    <tr>\n",
              "      <th>17903</th>\n",
              "      <td>17952</td>\n",
              "      <td>17952</td>\n",
              "      <td>N. Christoffersson</td>\n",
              "      <td>19</td>\n",
              "      <td>Sweden</td>\n",
              "      <td>47</td>\n",
              "      <td>63</td>\n",
              "      <td>Trelleborgs FF</td>\n",
              "      <td>Right</td>\n",
              "      <td>1</td>\n",
              "      <td>...</td>\n",
              "      <td>15</td>\n",
              "      <td>19</td>\n",
              "      <td>10</td>\n",
              "      <td>9</td>\n",
              "      <td>9</td>\n",
              "      <td>5</td>\n",
              "      <td>12</td>\n",
              "      <td>60000</td>\n",
              "      <td>1.91</td>\n",
              "      <td>77.11</td>\n",
              "    </tr>\n",
              "    <tr>\n",
              "      <th>17904</th>\n",
              "      <td>17953</td>\n",
              "      <td>17953</td>\n",
              "      <td>B. Worman</td>\n",
              "      <td>16</td>\n",
              "      <td>England</td>\n",
              "      <td>47</td>\n",
              "      <td>67</td>\n",
              "      <td>Cambridge United</td>\n",
              "      <td>Right</td>\n",
              "      <td>1</td>\n",
              "      <td>...</td>\n",
              "      <td>13</td>\n",
              "      <td>11</td>\n",
              "      <td>6</td>\n",
              "      <td>5</td>\n",
              "      <td>10</td>\n",
              "      <td>6</td>\n",
              "      <td>13</td>\n",
              "      <td>60000</td>\n",
              "      <td>1.73</td>\n",
              "      <td>67.13</td>\n",
              "    </tr>\n",
              "    <tr>\n",
              "      <th>17905</th>\n",
              "      <td>17954</td>\n",
              "      <td>17954</td>\n",
              "      <td>D. Walker-Rice</td>\n",
              "      <td>17</td>\n",
              "      <td>England</td>\n",
              "      <td>47</td>\n",
              "      <td>66</td>\n",
              "      <td>Tranmere Rovers</td>\n",
              "      <td>Right</td>\n",
              "      <td>1</td>\n",
              "      <td>...</td>\n",
              "      <td>25</td>\n",
              "      <td>27</td>\n",
              "      <td>14</td>\n",
              "      <td>6</td>\n",
              "      <td>14</td>\n",
              "      <td>8</td>\n",
              "      <td>9</td>\n",
              "      <td>60000</td>\n",
              "      <td>1.78</td>\n",
              "      <td>69.85</td>\n",
              "    </tr>\n",
              "    <tr>\n",
              "      <th>17906</th>\n",
              "      <td>17955</td>\n",
              "      <td>17955</td>\n",
              "      <td>G. Nugent</td>\n",
              "      <td>16</td>\n",
              "      <td>England</td>\n",
              "      <td>46</td>\n",
              "      <td>66</td>\n",
              "      <td>Tranmere Rovers</td>\n",
              "      <td>Right</td>\n",
              "      <td>1</td>\n",
              "      <td>...</td>\n",
              "      <td>43</td>\n",
              "      <td>50</td>\n",
              "      <td>10</td>\n",
              "      <td>15</td>\n",
              "      <td>9</td>\n",
              "      <td>12</td>\n",
              "      <td>9</td>\n",
              "      <td>60000</td>\n",
              "      <td>1.78</td>\n",
              "      <td>79.83</td>\n",
              "    </tr>\n",
              "  </tbody>\n",
              "</table>\n",
              "<p>17907 rows × 51 columns</p>\n",
              "</div>\n",
              "      <button class=\"colab-df-convert\" onclick=\"convertToInteractive('df-f7365e47-f3f7-45ed-a687-03961790fd80')\"\n",
              "              title=\"Convert this dataframe to an interactive table.\"\n",
              "              style=\"display:none;\">\n",
              "        \n",
              "  <svg xmlns=\"http://www.w3.org/2000/svg\" height=\"24px\"viewBox=\"0 0 24 24\"\n",
              "       width=\"24px\">\n",
              "    <path d=\"M0 0h24v24H0V0z\" fill=\"none\"/>\n",
              "    <path d=\"M18.56 5.44l.94 2.06.94-2.06 2.06-.94-2.06-.94-.94-2.06-.94 2.06-2.06.94zm-11 1L8.5 8.5l.94-2.06 2.06-.94-2.06-.94L8.5 2.5l-.94 2.06-2.06.94zm10 10l.94 2.06.94-2.06 2.06-.94-2.06-.94-.94-2.06-.94 2.06-2.06.94z\"/><path d=\"M17.41 7.96l-1.37-1.37c-.4-.4-.92-.59-1.43-.59-.52 0-1.04.2-1.43.59L10.3 9.45l-7.72 7.72c-.78.78-.78 2.05 0 2.83L4 21.41c.39.39.9.59 1.41.59.51 0 1.02-.2 1.41-.59l7.78-7.78 2.81-2.81c.8-.78.8-2.07 0-2.86zM5.41 20L4 18.59l7.72-7.72 1.47 1.35L5.41 20z\"/>\n",
              "  </svg>\n",
              "      </button>\n",
              "      \n",
              "  <style>\n",
              "    .colab-df-container {\n",
              "      display:flex;\n",
              "      flex-wrap:wrap;\n",
              "      gap: 12px;\n",
              "    }\n",
              "\n",
              "    .colab-df-convert {\n",
              "      background-color: #E8F0FE;\n",
              "      border: none;\n",
              "      border-radius: 50%;\n",
              "      cursor: pointer;\n",
              "      display: none;\n",
              "      fill: #1967D2;\n",
              "      height: 32px;\n",
              "      padding: 0 0 0 0;\n",
              "      width: 32px;\n",
              "    }\n",
              "\n",
              "    .colab-df-convert:hover {\n",
              "      background-color: #E2EBFA;\n",
              "      box-shadow: 0px 1px 2px rgba(60, 64, 67, 0.3), 0px 1px 3px 1px rgba(60, 64, 67, 0.15);\n",
              "      fill: #174EA6;\n",
              "    }\n",
              "\n",
              "    [theme=dark] .colab-df-convert {\n",
              "      background-color: #3B4455;\n",
              "      fill: #D2E3FC;\n",
              "    }\n",
              "\n",
              "    [theme=dark] .colab-df-convert:hover {\n",
              "      background-color: #434B5C;\n",
              "      box-shadow: 0px 1px 3px 1px rgba(0, 0, 0, 0.15);\n",
              "      filter: drop-shadow(0px 1px 2px rgba(0, 0, 0, 0.3));\n",
              "      fill: #FFFFFF;\n",
              "    }\n",
              "  </style>\n",
              "\n",
              "      <script>\n",
              "        const buttonEl =\n",
              "          document.querySelector('#df-f7365e47-f3f7-45ed-a687-03961790fd80 button.colab-df-convert');\n",
              "        buttonEl.style.display =\n",
              "          google.colab.kernel.accessAllowed ? 'block' : 'none';\n",
              "\n",
              "        async function convertToInteractive(key) {\n",
              "          const element = document.querySelector('#df-f7365e47-f3f7-45ed-a687-03961790fd80');\n",
              "          const dataTable =\n",
              "            await google.colab.kernel.invokeFunction('convertToInteractive',\n",
              "                                                     [key], {});\n",
              "          if (!dataTable) return;\n",
              "\n",
              "          const docLinkHtml = 'Like what you see? Visit the ' +\n",
              "            '<a target=\"_blank\" href=https://colab.research.google.com/notebooks/data_table.ipynb>data table notebook</a>'\n",
              "            + ' to learn more about interactive tables.';\n",
              "          element.innerHTML = '';\n",
              "          dataTable['output_type'] = 'display_data';\n",
              "          await google.colab.output.renderOutput(dataTable, element);\n",
              "          const docLink = document.createElement('div');\n",
              "          docLink.innerHTML = docLinkHtml;\n",
              "          element.appendChild(docLink);\n",
              "        }\n",
              "      </script>\n",
              "    </div>\n",
              "  </div>\n",
              "  "
            ]
          },
          "metadata": {},
          "execution_count": 2
        }
      ]
    },
    {
      "cell_type": "code",
      "source": [
        "print(\"Observaciones y variables: \", datos.shape)\n",
        "print(\"Columnas y tipo de dato\")\n",
        "# datos.columns\n",
        "datos.dtypes"
      ],
      "metadata": {
        "colab": {
          "base_uri": "https://localhost:8080/"
        },
        "id": "vpoY4QgqGQW5",
        "outputId": "f0f2dc0c-8576-42f0-e634-f168a3b0d9ec"
      },
      "execution_count": 3,
      "outputs": [
        {
          "output_type": "stream",
          "name": "stdout",
          "text": [
            "Observaciones y variables:  (17907, 51)\n",
            "Columnas y tipo de dato\n"
          ]
        },
        {
          "output_type": "execute_result",
          "data": {
            "text/plain": [
              "Unnamed: 0                    int64\n",
              "X                             int64\n",
              "Name                         object\n",
              "Age                           int64\n",
              "Nationality                  object\n",
              "Overall                       int64\n",
              "Potential                     int64\n",
              "Club                         object\n",
              "Preferred.Foot               object\n",
              "International.Reputation      int64\n",
              "Weak.Foot                     int64\n",
              "Skill.Moves                   int64\n",
              "Height                       object\n",
              "Weight                       object\n",
              "Crossing                      int64\n",
              "Finishing                     int64\n",
              "HeadingAccuracy               int64\n",
              "ShortPassing                  int64\n",
              "Volleys                       int64\n",
              "Dribbling                     int64\n",
              "Curve                         int64\n",
              "FKAccuracy                    int64\n",
              "LongPassing                   int64\n",
              "BallControl                   int64\n",
              "Acceleration                  int64\n",
              "SprintSpeed                   int64\n",
              "Agility                       int64\n",
              "Reactions                     int64\n",
              "Balance                       int64\n",
              "ShotPower                     int64\n",
              "Jumping                       int64\n",
              "Stamina                       int64\n",
              "Strength                      int64\n",
              "LongShots                     int64\n",
              "Aggression                    int64\n",
              "Interceptions                 int64\n",
              "Positioning                   int64\n",
              "Vision                        int64\n",
              "Penalties                     int64\n",
              "Composure                     int64\n",
              "Marking                       int64\n",
              "StandingTackle                int64\n",
              "SlidingTackle                 int64\n",
              "GKDiving                      int64\n",
              "GKHandling                    int64\n",
              "GKKicking                     int64\n",
              "GKPositioning                 int64\n",
              "GKReflexes                    int64\n",
              "Valor                         int64\n",
              "Estatura                    float64\n",
              "PesoKgs                     float64\n",
              "dtype: object"
            ]
          },
          "metadata": {},
          "execution_count": 3
        }
      ]
    },
    {
      "cell_type": "markdown",
      "source": [
        "### Variables independiente y dependiente\n",
        "\n",
        "Se identifican dos variables numéricas de interés:\n",
        "\n",
        "* *Overall*: Reputación y jerarquía internacional numérica del jugador\n",
        "\n",
        "* *Valor*: Sería el valor económico internacional de los jugadores\n",
        "\n",
        "Se define a la variable independiente como *Overall* y la variable dependiente Valor, es decir, *Overall* impacta sobre *Valor* o los números económicos de la variable Valor dependen de *Overall*."
      ],
      "metadata": {
        "id": "e_axudu9GUg4"
      }
    },
    {
      "cell_type": "code",
      "source": [
        "datos['Overall'].describe()"
      ],
      "metadata": {
        "colab": {
          "base_uri": "https://localhost:8080/"
        },
        "id": "hu7rqVL1GYYw",
        "outputId": "e6615d23-8500-46c4-bdfc-5e368fd78860"
      },
      "execution_count": 4,
      "outputs": [
        {
          "output_type": "execute_result",
          "data": {
            "text/plain": [
              "count    17907.000000\n",
              "mean        66.239571\n",
              "std          6.926818\n",
              "min         46.000000\n",
              "25%         62.000000\n",
              "50%         66.000000\n",
              "75%         71.000000\n",
              "max         94.000000\n",
              "Name: Overall, dtype: float64"
            ]
          },
          "metadata": {},
          "execution_count": 4
        }
      ]
    },
    {
      "cell_type": "code",
      "source": [
        "datos['Valor'].describe()"
      ],
      "metadata": {
        "colab": {
          "base_uri": "https://localhost:8080/"
        },
        "id": "4XRKQEXgGcVD",
        "outputId": "0421d470-e363-48aa-f6f0-272cde023a14"
      },
      "execution_count": 5,
      "outputs": [
        {
          "output_type": "execute_result",
          "data": {
            "text/plain": [
              "count    1.790700e+04\n",
              "mean     2.450133e+06\n",
              "std      5.633207e+06\n",
              "min      1.000000e+04\n",
              "25%      3.250000e+05\n",
              "50%      7.000000e+05\n",
              "75%      2.100000e+06\n",
              "max      1.185000e+08\n",
              "Name: Valor, dtype: float64"
            ]
          },
          "metadata": {},
          "execution_count": 5
        }
      ]
    },
    {
      "cell_type": "markdown",
      "source": [
        "## Dispersión de los datos"
      ],
      "metadata": {
        "id": "lG02ojn4GfW6"
      }
    },
    {
      "cell_type": "code",
      "source": [
        "plt.plot(datos['Overall'], datos['Valor'], 'o', color= 'purple')"
      ],
      "metadata": {
        "colab": {
          "base_uri": "https://localhost:8080/",
          "height": 293
        },
        "id": "F7NRJiy5GhnC",
        "outputId": "027c13ed-dc8f-42ee-966f-a8866e81e1e4"
      },
      "execution_count": 6,
      "outputs": [
        {
          "output_type": "execute_result",
          "data": {
            "text/plain": [
              "[<matplotlib.lines.Line2D at 0x7f06c21aff50>]"
            ]
          },
          "metadata": {},
          "execution_count": 6
        },
        {
          "output_type": "display_data",
          "data": {
            "text/plain": [
              "<Figure size 432x288 with 1 Axes>"
            ],
            "image/png": "[encoded data removed]"
          },
          "metadata": {
            "needs_background": "light"
          }
        }
      ]
    },
    {
      "cell_type": "markdown",
      "source": [
        "Se observa que la relación de los datos no es del todo lineal, pero se construirán los modelos de regresión lineal simple y polinómico con las mismas variables."
      ],
      "metadata": {
        "id": "0M1uQKvbGrU8"
      }
    },
    {
      "cell_type": "markdown",
      "source": [
        "## Datos de entrenamiento y datos de validación\n",
        "\n",
        "Se parten los datos 70% datos de entrenamiento y 30% datos de validación"
      ],
      "metadata": {
        "id": "q6XZp58xGsmn"
      }
    },
    {
      "cell_type": "code",
      "source": [
        "overall = datos[['Overall']].to_numpy()\n",
        "valor = datos[['Valor']].to_numpy()"
      ],
      "metadata": {
        "id": "5KXy14oiGo4K"
      },
      "execution_count": 7,
      "outputs": []
    },
    {
      "cell_type": "markdown",
      "source": [
        "Ahora que se tiene la variable independiente overall y la variable dependiente valor, el siguiente paso es dividir estos datos en conjuntos de entrenamiento y prueba o validación.\n",
        "\n",
        "Se utiiza el método *train_test_split()* que forma parte de la librería Scikit-Learn.\n",
        "\n",
        "El argumento test_size establece el 30% para datos de validación por lo que el 70% pertenece a los datos de entrenamiento"
      ],
      "metadata": {
        "id": "yrAFrrd9G4w2"
      }
    },
    {
      "cell_type": "code",
      "source": [
        "overall_train, overall_test, valor_train, valor_test = train_test_split(overall, valor, test_size=0.3, random_state=2022)"
      ],
      "metadata": {
        "id": "wVc3NYhpG97a"
      },
      "execution_count": 8,
      "outputs": []
    },
    {
      "cell_type": "code",
      "source": [
        "overall_train"
      ],
      "metadata": {
        "colab": {
          "base_uri": "https://localhost:8080/"
        },
        "id": "F0juhmA5HJM6",
        "outputId": "cffa82de-b11f-425e-e589-89b751c8d7e2"
      },
      "execution_count": 9,
      "outputs": [
        {
          "output_type": "execute_result",
          "data": {
            "text/plain": [
              "array([[54],\n",
              "       [63],\n",
              "       [64],\n",
              "       ...,\n",
              "       [70],\n",
              "       [56],\n",
              "       [76]])"
            ]
          },
          "metadata": {},
          "execution_count": 9
        }
      ]
    },
    {
      "cell_type": "markdown",
      "source": [
        "## Modelos de regresión"
      ],
      "metadata": {
        "id": "wn0IkXMmHLyX"
      }
    },
    {
      "cell_type": "markdown",
      "source": [
        "### Modelo de Regresión Lineal Simple"
      ],
      "metadata": {
        "id": "8nXd5uCeHOQs"
      }
    },
    {
      "cell_type": "code",
      "source": [
        "modelo_ls = LinearRegression()\n",
        "modelo_ls.fit(overall_train, valor_train)"
      ],
      "metadata": {
        "colab": {
          "base_uri": "https://localhost:8080/"
        },
        "id": "1_IvEl4sHQIV",
        "outputId": "b0f8f3b2-d29e-49ef-ce52-39bc5cf3768c"
      },
      "execution_count": 10,
      "outputs": [
        {
          "output_type": "execute_result",
          "data": {
            "text/plain": [
              "LinearRegression()"
            ]
          },
          "metadata": {},
          "execution_count": 10
        }
      ]
    },
    {
      "cell_type": "markdown",
      "source": [
        "#### Coeficientes del modelo\n",
        "\n",
        "Se determinan los valores de a y b de la fórmula\n",
        "$$\n",
        "Y=a+bx \n",
        "$$\n",
        "ó\n",
        "$$\n",
        "Y=β0+β1⋅x\n",
        "$$"
      ],
      "metadata": {
        "id": "7HA_lh_JHS6F"
      }
    },
    {
      "cell_type": "code",
      "source": [
        "a = modelo_ls.intercept_\n",
        "b = modelo_ls.coef_\n",
        "\n",
        "print(\"Valor de a: \", a)\n",
        "print(\"Valor de b; \", b)"
      ],
      "metadata": {
        "colab": {
          "base_uri": "https://localhost:8080/"
        },
        "id": "FN62ugkKHWUp",
        "outputId": "80fbf613-394c-4d5c-c45b-fae5db338bec"
      },
      "execution_count": 11,
      "outputs": [
        {
          "output_type": "stream",
          "name": "stdout",
          "text": [
            "Valor de a:  [-31408538.06038756]\n",
            "Valor de b;  [[511065.1225897]]\n"
          ]
        }
      ]
    },
    {
      "cell_type": "markdown",
      "source": [
        "#### Linea de tendencia del modelo\n",
        "Con la el valor de los valores de tendencia o valores ajustados del modelo se visualiza la recta de tendencia del modelo.\n",
        "\n",
        "La gráfica g se construye por partes, primero la dispersión, segundo la linea de tendencia, tercero se agrega el título, para luego solo mostrar la gráfica g."
      ],
      "metadata": {
        "id": "ZwRXyULmHa-t"
      }
    },
    {
      "cell_type": "code",
      "source": [
        "linea_tendencia = modelo_ls.predict(overall_train)\n",
        "plt.plot(overall_train, valor_train, 'o', color= 'purple')\n",
        "plt.plot(overall_train, linea_tendencia, color=\"green\")"
      ],
      "metadata": {
        "colab": {
          "base_uri": "https://localhost:8080/",
          "height": 293
        },
        "id": "PrhVMay5Hd4Y",
        "outputId": "1815e6d4-286f-4273-b549-0608299106f3"
      },
      "execution_count": 12,
      "outputs": [
        {
          "output_type": "execute_result",
          "data": {
            "text/plain": [
              "[<matplotlib.lines.Line2D at 0x7f06c1c6d910>]"
            ]
          },
          "metadata": {},
          "execution_count": 12
        },
        {
          "output_type": "display_data",
          "data": {
            "text/plain": [
              "<Figure size 432x288 with 1 Axes>"
            ],
            "image/png": "[encoded data removed]"
          },
          "metadata": {
            "needs_background": "light"
          }
        }
      ]
    },
    {
      "cell_type": "markdown",
      "source": [
        "Se observa visualmente que la linea recta no es precisamente el mejor modelo para realizar predicciones."
      ],
      "metadata": {
        "id": "1zGewJJ2HlKQ"
      }
    },
    {
      "cell_type": "markdown",
      "source": [
        "### Predicciones\n",
        "\n",
        "Las predicciones se hacen con el conjunto de datos de validación."
      ],
      "metadata": {
        "id": "v2XCfk7JHnr7"
      }
    },
    {
      "cell_type": "code",
      "source": [
        "predicciones = modelo_ls.predict(overall_test)\n",
        "predicciones"
      ],
      "metadata": {
        "colab": {
          "base_uri": "https://localhost:8080/"
        },
        "id": "K81wa37THq0T",
        "outputId": "94b602ae-d820-4913-ff1c-f9d9ab87d052"
      },
      "execution_count": 13,
      "outputs": [
        {
          "output_type": "execute_result",
          "data": {
            "text/plain": [
              "array([[-1766760.95018503],\n",
              "       [ 6410281.01125015],\n",
              "       [ 5388150.76607075],\n",
              "       ...,\n",
              "       [ 9476671.74678834],\n",
              "       [ -233565.58241594],\n",
              "       [ 4366020.52089135]])"
            ]
          },
          "metadata": {},
          "execution_count": 13
        }
      ]
    },
    {
      "cell_type": "markdown",
      "source": [
        "### Determinando métricas\n",
        "\n",
        "Crear un data.frame llamado comparaciones a partir de la creación de un diccionario con los valores reales del conjunto de entrenamiento y las predicciones calculadas.\n",
        "\n",
        "Con la función flatten().tolist() convierte el arreglo a una lista de una dimensión."
      ],
      "metadata": {
        "id": "1b2w7_G7Ht-j"
      }
    },
    {
      "cell_type": "code",
      "source": [
        "diccionario = {'Overall': overall_test .flatten().tolist(),\n",
        "                'Real' : valor_test.flatten().tolist(), \n",
        "               'Predicho' : predicciones.flatten().tolist()}\n",
        "diccionario\n",
        "\n",
        "comparaciones = pd.DataFrame(diccionario)\n",
        "comparaciones"
      ],
      "metadata": {
        "colab": {
          "base_uri": "https://localhost:8080/",
          "height": 424
        },
        "id": "_-MaWFUMHwTS",
        "outputId": "c722676e-d7da-4f72-d11d-f98ed914014d"
      },
      "execution_count": 14,
      "outputs": [
        {
          "output_type": "execute_result",
          "data": {
            "text/plain": [
              "      Overall     Real      Predicho\n",
              "0          58   270000 -1.766761e+06\n",
              "1          74  7500000  6.410281e+06\n",
              "2          72  1600000  5.388151e+06\n",
              "3          61   240000 -2.335656e+05\n",
              "4          67   750000  2.832825e+06\n",
              "...       ...      ...           ...\n",
              "5368       64   675000  1.299630e+06\n",
              "5369       62   400000  2.774995e+05\n",
              "5370       80  6000000  9.476672e+06\n",
              "5371       61   290000 -2.335656e+05\n",
              "5372       70  3000000  4.366021e+06\n",
              "\n",
              "[5373 rows x 3 columns]"
            ],
            "text/html": [
              "\n",
              "  <div id=\"df-59107f3a-7539-46aa-a4d8-865b28a384d6\">\n",
              "    <div class=\"colab-df-container\">\n",
              "      <div>\n",
              "<style scoped>\n",
              "    .dataframe tbody tr th:only-of-type {\n",
              "        vertical-align: middle;\n",
              "    }\n",
              "\n",
              "    .dataframe tbody tr th {\n",
              "        vertical-align: top;\n",
              "    }\n",
              "\n",
              "    .dataframe thead th {\n",
              "        text-align: right;\n",
              "    }\n",
              "</style>\n",
              "<table border=\"1\" class=\"dataframe\">\n",
              "  <thead>\n",
              "    <tr style=\"text-align: right;\">\n",
              "      <th></th>\n",
              "      <th>Overall</th>\n",
              "      <th>Real</th>\n",
              "      <th>Predicho</th>\n",
              "    </tr>\n",
              "  </thead>\n",
              "  <tbody>\n",
              "    <tr>\n",
              "      <th>0</th>\n",
              "      <td>58</td>\n",
              "      <td>270000</td>\n",
              "      <td>-1.766761e+06</td>\n",
              "    </tr>\n",
              "    <tr>\n",
              "      <th>1</th>\n",
              "      <td>74</td>\n",
              "      <td>7500000</td>\n",
              "      <td>6.410281e+06</td>\n",
              "    </tr>\n",
              "    <tr>\n",
              "      <th>2</th>\n",
              "      <td>72</td>\n",
              "      <td>1600000</td>\n",
              "      <td>5.388151e+06</td>\n",
              "    </tr>\n",
              "    <tr>\n",
              "      <th>3</th>\n",
              "      <td>61</td>\n",
              "      <td>240000</td>\n",
              "      <td>-2.335656e+05</td>\n",
              "    </tr>\n",
              "    <tr>\n",
              "      <th>4</th>\n",
              "      <td>67</td>\n",
              "      <td>750000</td>\n",
              "      <td>2.832825e+06</td>\n",
              "    </tr>\n",
              "    <tr>\n",
              "      <th>...</th>\n",
              "      <td>...</td>\n",
              "      <td>...</td>\n",
              "      <td>...</td>\n",
              "    </tr>\n",
              "    <tr>\n",
              "      <th>5368</th>\n",
              "      <td>64</td>\n",
              "      <td>675000</td>\n",
              "      <td>1.299630e+06</td>\n",
              "    </tr>\n",
              "    <tr>\n",
              "      <th>5369</th>\n",
              "      <td>62</td>\n",
              "      <td>400000</td>\n",
              "      <td>2.774995e+05</td>\n",
              "    </tr>\n",
              "    <tr>\n",
              "      <th>5370</th>\n",
              "      <td>80</td>\n",
              "      <td>6000000</td>\n",
              "      <td>9.476672e+06</td>\n",
              "    </tr>\n",
              "    <tr>\n",
              "      <th>5371</th>\n",
              "      <td>61</td>\n",
              "      <td>290000</td>\n",
              "      <td>-2.335656e+05</td>\n",
              "    </tr>\n",
              "    <tr>\n",
              "      <th>5372</th>\n",
              "      <td>70</td>\n",
              "      <td>3000000</td>\n",
              "      <td>4.366021e+06</td>\n",
              "    </tr>\n",
              "  </tbody>\n",
              "</table>\n",
              "<p>5373 rows × 3 columns</p>\n",
              "</div>\n",
              "      <button class=\"colab-df-convert\" onclick=\"convertToInteractive('df-59107f3a-7539-46aa-a4d8-865b28a384d6')\"\n",
              "              title=\"Convert this dataframe to an interactive table.\"\n",
              "              style=\"display:none;\">\n",
              "        \n",
              "  <svg xmlns=\"http://www.w3.org/2000/svg\" height=\"24px\"viewBox=\"0 0 24 24\"\n",
              "       width=\"24px\">\n",
              "    <path d=\"M0 0h24v24H0V0z\" fill=\"none\"/>\n",
              "    <path d=\"M18.56 5.44l.94 2.06.94-2.06 2.06-.94-2.06-.94-.94-2.06-.94 2.06-2.06.94zm-11 1L8.5 8.5l.94-2.06 2.06-.94-2.06-.94L8.5 2.5l-.94 2.06-2.06.94zm10 10l.94 2.06.94-2.06 2.06-.94-2.06-.94-.94-2.06-.94 2.06-2.06.94z\"/><path d=\"M17.41 7.96l-1.37-1.37c-.4-.4-.92-.59-1.43-.59-.52 0-1.04.2-1.43.59L10.3 9.45l-7.72 7.72c-.78.78-.78 2.05 0 2.83L4 21.41c.39.39.9.59 1.41.59.51 0 1.02-.2 1.41-.59l7.78-7.78 2.81-2.81c.8-.78.8-2.07 0-2.86zM5.41 20L4 18.59l7.72-7.72 1.47 1.35L5.41 20z\"/>\n",
              "  </svg>\n",
              "      </button>\n",
              "      \n",
              "  <style>\n",
              "    .colab-df-container {\n",
              "      display:flex;\n",
              "      flex-wrap:wrap;\n",
              "      gap: 12px;\n",
              "    }\n",
              "\n",
              "    .colab-df-convert {\n",
              "      background-color: #E8F0FE;\n",
              "      border: none;\n",
              "      border-radius: 50%;\n",
              "      cursor: pointer;\n",
              "      display: none;\n",
              "      fill: #1967D2;\n",
              "      height: 32px;\n",
              "      padding: 0 0 0 0;\n",
              "      width: 32px;\n",
              "    }\n",
              "\n",
              "    .colab-df-convert:hover {\n",
              "      background-color: #E2EBFA;\n",
              "      box-shadow: 0px 1px 2px rgba(60, 64, 67, 0.3), 0px 1px 3px 1px rgba(60, 64, 67, 0.15);\n",
              "      fill: #174EA6;\n",
              "    }\n",
              "\n",
              "    [theme=dark] .colab-df-convert {\n",
              "      background-color: #3B4455;\n",
              "      fill: #D2E3FC;\n",
              "    }\n",
              "\n",
              "    [theme=dark] .colab-df-convert:hover {\n",
              "      background-color: #434B5C;\n",
              "      box-shadow: 0px 1px 3px 1px rgba(0, 0, 0, 0.15);\n",
              "      filter: drop-shadow(0px 1px 2px rgba(0, 0, 0, 0.3));\n",
              "      fill: #FFFFFF;\n",
              "    }\n",
              "  </style>\n",
              "\n",
              "      <script>\n",
              "        const buttonEl =\n",
              "          document.querySelector('#df-59107f3a-7539-46aa-a4d8-865b28a384d6 button.colab-df-convert');\n",
              "        buttonEl.style.display =\n",
              "          google.colab.kernel.accessAllowed ? 'block' : 'none';\n",
              "\n",
              "        async function convertToInteractive(key) {\n",
              "          const element = document.querySelector('#df-59107f3a-7539-46aa-a4d8-865b28a384d6');\n",
              "          const dataTable =\n",
              "            await google.colab.kernel.invokeFunction('convertToInteractive',\n",
              "                                                     [key], {});\n",
              "          if (!dataTable) return;\n",
              "\n",
              "          const docLinkHtml = 'Like what you see? Visit the ' +\n",
              "            '<a target=\"_blank\" href=https://colab.research.google.com/notebooks/data_table.ipynb>data table notebook</a>'\n",
              "            + ' to learn more about interactive tables.';\n",
              "          element.innerHTML = '';\n",
              "          dataTable['output_type'] = 'display_data';\n",
              "          await google.colab.output.renderOutput(dataTable, element);\n",
              "          const docLink = document.createElement('div');\n",
              "          docLink.innerHTML = docLinkHtml;\n",
              "          element.appendChild(docLink);\n",
              "        }\n",
              "      </script>\n",
              "    </div>\n",
              "  </div>\n",
              "  "
            ]
          },
          "metadata": {},
          "execution_count": 14
        }
      ]
    },
    {
      "cell_type": "markdown",
      "source": [
        "¡Salen predicciones negativas!, ¿que significa? , no debiera haber predicciones negativas, sin embargo, esto sucede porque el modelo así lo calcula por lo estricto de la linea de recta de tendencia.\n",
        "\n",
        "#### R Square\n",
        "\n",
        "Es el valor de la correlación al cuadrado de las predicciones y los valores reales.Se interpreta como la representación que tienen la variable indepéndiente sobre la variable dependinte. En este caso, que tanto Overall representa a Valor en los datos.\n",
        "\n",
        "R2 es el coeficiente de determinación, y tiene que ver con la capacidad de un modelo para predecir futuros resultados"
      ],
      "metadata": {
        "id": "xg7X2-QmH8_m"
      }
    },
    {
      "cell_type": "code",
      "source": [],
      "metadata": {
        "id": "FcmK0iXgIAwL"
      },
      "execution_count": null,
      "outputs": []
    },
    {
      "cell_type": "code",
      "source": [
        "# r = np.corrcoef(overall_train.flatten().tolist(), valor_train.flatten().tolist())\n",
        "# r = r ** 2\n",
        "# r = r.reshape(-1,2)\n",
        "# r = r[0, 1]\n",
        "# print('R Square :', np.round(r, 4) )\n",
        "\n",
        "# Con lo real vs predicciones\n",
        "r = np.corrcoef(comparaciones['Real'], comparaciones['Predicho'])\n",
        "r = r ** 2\n",
        "r = r.reshape(-1,2)\n",
        "r = r[0, 1]\n",
        "print('R Square :', np.round(r, 4) )\n",
        "\n",
        "# con r2_score([2, 5, 9], [3, 5, 11])\n",
        "print('R Square :', r2_score(comparaciones['Real'], comparaciones['Predicho'] ))\n"
      ],
      "metadata": {
        "colab": {
          "base_uri": "https://localhost:8080/"
        },
        "id": "Dpq_LTwqC3jt",
        "outputId": "c008d41e-e83e-4dbb-a6c3-25f561b97969"
      },
      "execution_count": 15,
      "outputs": [
        {
          "output_type": "stream",
          "name": "stdout",
          "text": [
            "R Square : 0.3831\n",
            "R Square : 0.38299355370512567\n"
          ]
        }
      ]
    },
    {
      "cell_type": "markdown",
      "source": [
        "El valor de R Square es por debajo del 40% por lo que no sobrepasa el 50% como critero, por lo cual, por este criterio el modelo **NO SE ACEPTA**."
      ],
      "metadata": {
        "id": "aSX46-VSISUI"
      }
    },
    {
      "cell_type": "markdown",
      "source": [
        "#### rmse\n",
        "\n",
        "$$\n",
        "rmse = \\sqrt{\\frac{\\sum(predicho_i - real_i)^{2}}{n}}\n",
        "$$\n"
      ],
      "metadata": {
        "id": "MO5D9dgZIViS"
      }
    },
    {
      "cell_type": "code",
      "source": [
        "print('Mean Squared Error: MSE', metrics.mean_squared_error(valor_test, predicciones))\n",
        "print('Root Mean Squared Error RMSE:', np.sqrt(metrics.mean_squared_error(valor_test, predicciones)))\n"
      ],
      "metadata": {
        "colab": {
          "base_uri": "https://localhost:8080/"
        },
        "id": "5PupnzfbIa6p",
        "outputId": "80389f1d-1bc3-4a59-dd23-201afbf150a9"
      },
      "execution_count": 16,
      "outputs": [
        {
          "output_type": "stream",
          "name": "stdout",
          "text": [
            "Mean Squared Error: MSE 20862415870369.51\n",
            "Root Mean Squared Error RMSE: 4567539.367139544\n"
          ]
        }
      ]
    },
    {
      "cell_type": "markdown",
      "source": [
        "El valor de **rmse** está por encima los 2,000,000 (dos millones) por lo que de acuerdo a la métrica inicial establecida el modelo **¡NO SE ACEPTA!**"
      ],
      "metadata": {
        "id": "8f0UIQ7-IgC-"
      }
    },
    {
      "cell_type": "markdown",
      "source": [
        "### Modelo de Regresión Polinomial de segundo nivel\n",
        "\n",
        "Desde Sklearn con PolynomialFeatures, se crea un objeto polinómico de segundo nivel. Se crea otro objeto de X_poly a partir de los datos de entrenamiento y finalmente se cra el modelo polinómico de segundo nivel."
      ],
      "metadata": {
        "id": "R7pQGdFMIjyo"
      }
    },
    {
      "cell_type": "code",
      "source": [
        "from sklearn.preprocessing import PolynomialFeatures\n",
        "poly_reg =  PolynomialFeatures(degree = 2)\n",
        "overall_poly = poly_reg.fit_transform(overall_train)\n",
        "modelo_poly2 = LinearRegression()\n",
        "modelo_poly2.fit(overall_poly, valor_train)"
      ],
      "metadata": {
        "colab": {
          "base_uri": "https://localhost:8080/"
        },
        "id": "sF-BS4FnImZ5",
        "outputId": "c8465872-b7d2-40cf-dd40-f807977ca52d"
      },
      "execution_count": 17,
      "outputs": [
        {
          "output_type": "execute_result",
          "data": {
            "text/plain": [
              "LinearRegression()"
            ]
          },
          "metadata": {},
          "execution_count": 17
        }
      ]
    },
    {
      "cell_type": "markdown",
      "source": [
        "#### Curva de tendencia"
      ],
      "metadata": {
        "id": "WjTdmoZMIqVv"
      }
    },
    {
      "cell_type": "code",
      "source": [
        " #                     model.predict(overall_poly)\n",
        "curva_tendencia = modelo_poly2.predict(poly_reg.fit_transform(overall_train))\n",
        "plt.scatter(overall_train, valor_train, color = 'b', )\n",
        "plt.scatter(overall_train, curva_tendencia, color='g', linestyle = 'solid')\n",
        "plt.show()"
      ],
      "metadata": {
        "colab": {
          "base_uri": "https://localhost:8080/",
          "height": 276
        },
        "id": "xmHCTBJVItYg",
        "outputId": "cf49822d-145f-4a60-e3e1-0a038e4f6ed9"
      },
      "execution_count": 19,
      "outputs": [
        {
          "output_type": "display_data",
          "data": {
            "text/plain": [
              "<Figure size 432x288 with 1 Axes>"
            ],
            "image/png": "[encoded data removed]"
          },
          "metadata": {
            "needs_background": "light"
          }
        }
      ]
    },
    {
      "cell_type": "markdown",
      "source": [
        "#### Predicciones"
      ],
      "metadata": {
        "id": "glTLVZtuI_1o"
      }
    },
    {
      "cell_type": "code",
      "source": [
        "predicciones = modelo_poly2.predict(poly_reg.fit_transform(overall_test))\n",
        "predicciones"
      ],
      "metadata": {
        "colab": {
          "base_uri": "https://localhost:8080/"
        },
        "id": "iphN-9AcJAfc",
        "outputId": "c68d8976-ad8d-476a-d0ec-f4308b330b4c"
      },
      "execution_count": 20,
      "outputs": [
        {
          "output_type": "execute_result",
          "data": {
            "text/plain": [
              "array([[ -631932.43541962],\n",
              "       [ 6840320.94375098],\n",
              "       [ 4550834.29102248],\n",
              "       ...,\n",
              "       [16032418.01107734],\n",
              "       [-1118840.07800207],\n",
              "       [ 2648620.48981744]])"
            ]
          },
          "metadata": {},
          "execution_count": 20
        }
      ]
    },
    {
      "cell_type": "markdown",
      "source": [
        "### Determinando métricas\n",
        "\n",
        "Crear un data.frame llamado comparaciones a partir de la creación de un diccionario con los valores reales del conjunto de entrenamiento y las predicciones calculadas.\n",
        "\n",
        "Con la función flatten().tolist() convierte el arreglo a \n",
        "una lista de una dimensión."
      ],
      "metadata": {
        "id": "2wo--786JFZM"
      }
    },
    {
      "cell_type": "code",
      "source": [
        "diccionario = {'Overall': overall_test.flatten().tolist(),\n",
        "                'Real' : valor_test.flatten().tolist(), \n",
        "               'Predicho' : predicciones.flatten().tolist()}\n",
        "diccionario\n",
        "\n",
        "comparaciones = pd.DataFrame(diccionario)\n",
        "comparaciones.head(20)"
      ],
      "metadata": {
        "colab": {
          "base_uri": "https://localhost:8080/",
          "height": 677
        },
        "id": "8w_Oc2ZiJIlT",
        "outputId": "9b2dbd0f-0903-4b8d-f013-c6843fe02542"
      },
      "execution_count": 21,
      "outputs": [
        {
          "output_type": "execute_result",
          "data": {
            "text/plain": [
              "    Overall      Real      Predicho\n",
              "0        58    270000 -6.319324e+05\n",
              "1        74   7500000  6.840321e+06\n",
              "2        72   1600000  4.550834e+06\n",
              "3        61    240000 -1.118840e+06\n",
              "4        67    750000  5.214364e+05\n",
              "5        74   4800000  6.840321e+06\n",
              "6        55    120000  7.263391e+05\n",
              "7        56    190000  1.767637e+05\n",
              "8        63    375000 -9.593541e+05\n",
              "9        64    475000 -7.343838e+05\n",
              "10       58    240000 -6.319324e+05\n",
              "11       64    325000 -7.343838e+05\n",
              "12       63    260000 -9.593541e+05\n",
              "13       67   1000000  5.214364e+05\n",
              "14       60    325000 -1.053356e+06\n",
              "15       77  12500000  1.100069e+07\n",
              "16       52     90000  2.955975e+06\n",
              "17       64    400000 -7.343838e+05\n",
              "18       69   1100000  1.842741e+06\n",
              "19       74   4900000  6.840321e+06"
            ],
            "text/html": [
              "\n",
              "  <div id=\"df-8a2622cc-8f4f-444d-9b4c-e5bd57822402\">\n",
              "    <div class=\"colab-df-container\">\n",
              "      <div>\n",
              "<style scoped>\n",
              "    .dataframe tbody tr th:only-of-type {\n",
              "        vertical-align: middle;\n",
              "    }\n",
              "\n",
              "    .dataframe tbody tr th {\n",
              "        vertical-align: top;\n",
              "    }\n",
              "\n",
              "    .dataframe thead th {\n",
              "        text-align: right;\n",
              "    }\n",
              "</style>\n",
              "<table border=\"1\" class=\"dataframe\">\n",
              "  <thead>\n",
              "    <tr style=\"text-align: right;\">\n",
              "      <th></th>\n",
              "      <th>Overall</th>\n",
              "      <th>Real</th>\n",
              "      <th>Predicho</th>\n",
              "    </tr>\n",
              "  </thead>\n",
              "  <tbody>\n",
              "    <tr>\n",
              "      <th>0</th>\n",
              "      <td>58</td>\n",
              "      <td>270000</td>\n",
              "      <td>-6.319324e+05</td>\n",
              "    </tr>\n",
              "    <tr>\n",
              "      <th>1</th>\n",
              "      <td>74</td>\n",
              "      <td>7500000</td>\n",
              "      <td>6.840321e+06</td>\n",
              "    </tr>\n",
              "    <tr>\n",
              "      <th>2</th>\n",
              "      <td>72</td>\n",
              "      <td>1600000</td>\n",
              "      <td>4.550834e+06</td>\n",
              "    </tr>\n",
              "    <tr>\n",
              "      <th>3</th>\n",
              "      <td>61</td>\n",
              "      <td>240000</td>\n",
              "      <td>-1.118840e+06</td>\n",
              "    </tr>\n",
              "    <tr>\n",
              "      <th>4</th>\n",
              "      <td>67</td>\n",
              "      <td>750000</td>\n",
              "      <td>5.214364e+05</td>\n",
              "    </tr>\n",
              "    <tr>\n",
              "      <th>5</th>\n",
              "      <td>74</td>\n",
              "      <td>4800000</td>\n",
              "      <td>6.840321e+06</td>\n",
              "    </tr>\n",
              "    <tr>\n",
              "      <th>6</th>\n",
              "      <td>55</td>\n",
              "      <td>120000</td>\n",
              "      <td>7.263391e+05</td>\n",
              "    </tr>\n",
              "    <tr>\n",
              "      <th>7</th>\n",
              "      <td>56</td>\n",
              "      <td>190000</td>\n",
              "      <td>1.767637e+05</td>\n",
              "    </tr>\n",
              "    <tr>\n",
              "      <th>8</th>\n",
              "      <td>63</td>\n",
              "      <td>375000</td>\n",
              "      <td>-9.593541e+05</td>\n",
              "    </tr>\n",
              "    <tr>\n",
              "      <th>9</th>\n",
              "      <td>64</td>\n",
              "      <td>475000</td>\n",
              "      <td>-7.343838e+05</td>\n",
              "    </tr>\n",
              "    <tr>\n",
              "      <th>10</th>\n",
              "      <td>58</td>\n",
              "      <td>240000</td>\n",
              "      <td>-6.319324e+05</td>\n",
              "    </tr>\n",
              "    <tr>\n",
              "      <th>11</th>\n",
              "      <td>64</td>\n",
              "      <td>325000</td>\n",
              "      <td>-7.343838e+05</td>\n",
              "    </tr>\n",
              "    <tr>\n",
              "      <th>12</th>\n",
              "      <td>63</td>\n",
              "      <td>260000</td>\n",
              "      <td>-9.593541e+05</td>\n",
              "    </tr>\n",
              "    <tr>\n",
              "      <th>13</th>\n",
              "      <td>67</td>\n",
              "      <td>1000000</td>\n",
              "      <td>5.214364e+05</td>\n",
              "    </tr>\n",
              "    <tr>\n",
              "      <th>14</th>\n",
              "      <td>60</td>\n",
              "      <td>325000</td>\n",
              "      <td>-1.053356e+06</td>\n",
              "    </tr>\n",
              "    <tr>\n",
              "      <th>15</th>\n",
              "      <td>77</td>\n",
              "      <td>12500000</td>\n",
              "      <td>1.100069e+07</td>\n",
              "    </tr>\n",
              "    <tr>\n",
              "      <th>16</th>\n",
              "      <td>52</td>\n",
              "      <td>90000</td>\n",
              "      <td>2.955975e+06</td>\n",
              "    </tr>\n",
              "    <tr>\n",
              "      <th>17</th>\n",
              "      <td>64</td>\n",
              "      <td>400000</td>\n",
              "      <td>-7.343838e+05</td>\n",
              "    </tr>\n",
              "    <tr>\n",
              "      <th>18</th>\n",
              "      <td>69</td>\n",
              "      <td>1100000</td>\n",
              "      <td>1.842741e+06</td>\n",
              "    </tr>\n",
              "    <tr>\n",
              "      <th>19</th>\n",
              "      <td>74</td>\n",
              "      <td>4900000</td>\n",
              "      <td>6.840321e+06</td>\n",
              "    </tr>\n",
              "  </tbody>\n",
              "</table>\n",
              "</div>\n",
              "      <button class=\"colab-df-convert\" onclick=\"convertToInteractive('df-8a2622cc-8f4f-444d-9b4c-e5bd57822402')\"\n",
              "              title=\"Convert this dataframe to an interactive table.\"\n",
              "              style=\"display:none;\">\n",
              "        \n",
              "  <svg xmlns=\"http://www.w3.org/2000/svg\" height=\"24px\"viewBox=\"0 0 24 24\"\n",
              "       width=\"24px\">\n",
              "    <path d=\"M0 0h24v24H0V0z\" fill=\"none\"/>\n",
              "    <path d=\"M18.56 5.44l.94 2.06.94-2.06 2.06-.94-2.06-.94-.94-2.06-.94 2.06-2.06.94zm-11 1L8.5 8.5l.94-2.06 2.06-.94-2.06-.94L8.5 2.5l-.94 2.06-2.06.94zm10 10l.94 2.06.94-2.06 2.06-.94-2.06-.94-.94-2.06-.94 2.06-2.06.94z\"/><path d=\"M17.41 7.96l-1.37-1.37c-.4-.4-.92-.59-1.43-.59-.52 0-1.04.2-1.43.59L10.3 9.45l-7.72 7.72c-.78.78-.78 2.05 0 2.83L4 21.41c.39.39.9.59 1.41.59.51 0 1.02-.2 1.41-.59l7.78-7.78 2.81-2.81c.8-.78.8-2.07 0-2.86zM5.41 20L4 18.59l7.72-7.72 1.47 1.35L5.41 20z\"/>\n",
              "  </svg>\n",
              "      </button>\n",
              "      \n",
              "  <style>\n",
              "    .colab-df-container {\n",
              "      display:flex;\n",
              "      flex-wrap:wrap;\n",
              "      gap: 12px;\n",
              "    }\n",
              "\n",
              "    .colab-df-convert {\n",
              "      background-color: #E8F0FE;\n",
              "      border: none;\n",
              "      border-radius: 50%;\n",
              "      cursor: pointer;\n",
              "      display: none;\n",
              "      fill: #1967D2;\n",
              "      height: 32px;\n",
              "      padding: 0 0 0 0;\n",
              "      width: 32px;\n",
              "    }\n",
              "\n",
              "    .colab-df-convert:hover {\n",
              "      background-color: #E2EBFA;\n",
              "      box-shadow: 0px 1px 2px rgba(60, 64, 67, 0.3), 0px 1px 3px 1px rgba(60, 64, 67, 0.15);\n",
              "      fill: #174EA6;\n",
              "    }\n",
              "\n",
              "    [theme=dark] .colab-df-convert {\n",
              "      background-color: #3B4455;\n",
              "      fill: #D2E3FC;\n",
              "    }\n",
              "\n",
              "    [theme=dark] .colab-df-convert:hover {\n",
              "      background-color: #434B5C;\n",
              "      box-shadow: 0px 1px 3px 1px rgba(0, 0, 0, 0.15);\n",
              "      filter: drop-shadow(0px 1px 2px rgba(0, 0, 0, 0.3));\n",
              "      fill: #FFFFFF;\n",
              "    }\n",
              "  </style>\n",
              "\n",
              "      <script>\n",
              "        const buttonEl =\n",
              "          document.querySelector('#df-8a2622cc-8f4f-444d-9b4c-e5bd57822402 button.colab-df-convert');\n",
              "        buttonEl.style.display =\n",
              "          google.colab.kernel.accessAllowed ? 'block' : 'none';\n",
              "\n",
              "        async function convertToInteractive(key) {\n",
              "          const element = document.querySelector('#df-8a2622cc-8f4f-444d-9b4c-e5bd57822402');\n",
              "          const dataTable =\n",
              "            await google.colab.kernel.invokeFunction('convertToInteractive',\n",
              "                                                     [key], {});\n",
              "          if (!dataTable) return;\n",
              "\n",
              "          const docLinkHtml = 'Like what you see? Visit the ' +\n",
              "            '<a target=\"_blank\" href=https://colab.research.google.com/notebooks/data_table.ipynb>data table notebook</a>'\n",
              "            + ' to learn more about interactive tables.';\n",
              "          element.innerHTML = '';\n",
              "          dataTable['output_type'] = 'display_data';\n",
              "          await google.colab.output.renderOutput(dataTable, element);\n",
              "          const docLink = document.createElement('div');\n",
              "          docLink.innerHTML = docLinkHtml;\n",
              "          element.appendChild(docLink);\n",
              "        }\n",
              "      </script>\n",
              "    </div>\n",
              "  </div>\n",
              "  "
            ]
          },
          "metadata": {},
          "execution_count": 21
        }
      ]
    },
    {
      "cell_type": "markdown",
      "source": [
        "#### R Square"
      ],
      "metadata": {
        "id": "7uxWLn0JJMSP"
      }
    },
    {
      "cell_type": "code",
      "source": [
        "# Con lo real vs predicciones\n",
        "r = np.corrcoef(comparaciones['Real'], comparaciones['Predicho'])\n",
        "r = r ** 2\n",
        "r = r.reshape(-1,2)\n",
        "r = r[0, 1]\n",
        "print('R Square :', np.round(r, 4) )\n",
        "\n",
        "# con r2_score([2, 5, 9], [3, 5, 11])\n",
        "print('R Square :', r2_score(comparaciones['Real'], comparaciones['Predicho'] ))"
      ],
      "metadata": {
        "colab": {
          "base_uri": "https://localhost:8080/"
        },
        "id": "DYYC8kgrJPo4",
        "outputId": "97cd6a3b-b6e2-4d49-be7e-81a2aa71a05c"
      },
      "execution_count": 23,
      "outputs": [
        {
          "output_type": "stream",
          "name": "stdout",
          "text": [
            "R Square : 0.7415\n",
            "R Square : 0.7410581411870364\n"
          ]
        }
      ]
    },
    {
      "cell_type": "markdown",
      "source": [
        "Como el valor de R Square está por encima del 50% el modelo **¡ SE ACEPTA!**"
      ],
      "metadata": {
        "id": "r0p8khHHJeDp"
      }
    },
    {
      "cell_type": "markdown",
      "source": [
        "#### rmse"
      ],
      "metadata": {
        "id": "Rv_4Ei5TJhG0"
      }
    },
    {
      "cell_type": "code",
      "source": [
        "print('Mean Squared Error: MSE', metrics.mean_squared_error(valor_test, predicciones))\n",
        "print('Root Mean Squared Error RMSE:', np.sqrt(metrics.mean_squared_error(valor_test, predicciones)))"
      ],
      "metadata": {
        "colab": {
          "base_uri": "https://localhost:8080/"
        },
        "id": "41_PuF4DJmmn",
        "outputId": "b9047413-1c16-4ad4-d3d8-088d605f2211"
      },
      "execution_count": 24,
      "outputs": [
        {
          "output_type": "stream",
          "name": "stdout",
          "text": [
            "Mean Squared Error: MSE 8755423508526.529\n",
            "Root Mean Squared Error RMSE: 2958956.4897994916\n"
          ]
        }
      ]
    },
    {
      "cell_type": "markdown",
      "source": [
        "El valor de **rmse** está por encima los 2,000,000 (dos millones) por lo que de acuerdo a la métrica inicial establecida el modelo polinomial de segunda potencia  **¡NO SE ACEPTA!**"
      ],
      "metadata": {
        "id": "dzXBU1gjJsha"
      }
    },
    {
      "cell_type": "markdown",
      "source": [
        "### Modelo de Regresión Polinomial de segundo nivel"
      ],
      "metadata": {
        "id": "zPn2_IO4J82z"
      }
    },
    {
      "cell_type": "code",
      "source": [
        "poly_reg =  PolynomialFeatures(degree = 5)\n",
        "overall_poly = poly_reg.fit_transform(overall_train)\n",
        "modelo_poly5 = LinearRegression()\n",
        "modelo_poly5.fit(overall_poly, valor_train)"
      ],
      "metadata": {
        "colab": {
          "base_uri": "https://localhost:8080/"
        },
        "id": "aMNpdsBiJ-xc",
        "outputId": "18ebf8f2-cc66-46d2-c839-446020db371f"
      },
      "execution_count": 25,
      "outputs": [
        {
          "output_type": "execute_result",
          "data": {
            "text/plain": [
              "LinearRegression()"
            ]
          },
          "metadata": {},
          "execution_count": 25
        }
      ]
    },
    {
      "cell_type": "markdown",
      "source": [
        "#### Curva de tendencia"
      ],
      "metadata": {
        "id": "gjc4jrtLK49m"
      }
    },
    {
      "cell_type": "code",
      "source": [
        "curva_tendencia = modelo_poly5.predict(poly_reg.fit_transform(overall_train))\n",
        "plt.scatter(overall_train, valor_train, color = 'b', )\n",
        "plt.scatter(overall_train, curva_tendencia, color='g', linestyle = 'solid')\n",
        "plt.show()"
      ],
      "metadata": {
        "colab": {
          "base_uri": "https://localhost:8080/",
          "height": 276
        },
        "id": "gBapY-2AK8qd",
        "outputId": "2649d974-3f08-4bdd-c562-6175997b3314"
      },
      "execution_count": 26,
      "outputs": [
        {
          "output_type": "display_data",
          "data": {
            "text/plain": [
              "<Figure size 432x288 with 1 Axes>"
            ],
            "image/png": "[encoded data removed]"
          },
          "metadata": {
            "needs_background": "light"
          }
        }
      ]
    },
    {
      "cell_type": "markdown",
      "source": [
        "Se observa que la curva de tendencia tiene mejor ajuste que los anteriores modelos."
      ],
      "metadata": {
        "id": "Nvl2nhq0LC32"
      }
    },
    {
      "cell_type": "markdown",
      "source": [
        "#### Predicciones"
      ],
      "metadata": {
        "id": "odvh7ZYMLF_g"
      }
    },
    {
      "cell_type": "code",
      "source": [
        "predicciones = modelo_poly5.predict(poly_reg.fit_transform(overall_test))\n",
        "predicciones"
      ],
      "metadata": {
        "colab": {
          "base_uri": "https://localhost:8080/"
        },
        "id": "rHC7kYekLJQe",
        "outputId": "e238dcb7-334b-4e21-d30f-4f0c289978a6"
      },
      "execution_count": 27,
      "outputs": [
        {
          "output_type": "execute_result",
          "data": {
            "text/plain": [
              "array([[  244142.86845899],\n",
              "       [ 4806810.8417902 ],\n",
              "       [ 3018948.37114573],\n",
              "       ...,\n",
              "       [15593296.0537405 ],\n",
              "       [  325567.50042605],\n",
              "       [ 1833119.39136076]])"
            ]
          },
          "metadata": {},
          "execution_count": 27
        }
      ]
    },
    {
      "cell_type": "markdown",
      "source": [
        "### Determinando métricas\n",
        "\n",
        "Crear un data.frame llamado comparaciones a partir de la creación de un diccionario con los valores reales del conjunto de entrenamiento y las predicciones calculadas.\n",
        "\n",
        "Con la función flatten().tolist() convierte el arreglo a una lista de una dimensión."
      ],
      "metadata": {
        "id": "PN5_UQggLMIr"
      }
    },
    {
      "cell_type": "code",
      "source": [
        "diccionario = {'Overall': overall_test.flatten().tolist(),\n",
        "                'Real' : valor_test.flatten().tolist(), \n",
        "               'Predicho' : predicciones.flatten().tolist()}\n",
        "diccionario\n",
        "\n",
        "comparaciones = pd.DataFrame(diccionario)\n",
        "comparaciones.head(20)"
      ],
      "metadata": {
        "id": "1J94KOMyLPx2"
      },
      "execution_count": null,
      "outputs": []
    },
    {
      "cell_type": "markdown",
      "source": [
        "#### R  Square"
      ],
      "metadata": {
        "id": "wi2dKdnaLMDR"
      }
    },
    {
      "cell_type": "code",
      "source": [
        "# Con lo real vs predicciones\n",
        "r = np.corrcoef(comparaciones['Real'], comparaciones['Predicho'])\n",
        "r = r ** 2\n",
        "r = r.reshape(-1,2)\n",
        "r = r[0, 1]\n",
        "print('R Square :', np.round(r, 4) )\n",
        "\n",
        "# con r2_score([2, 5, 9], [3, 5, 11])\n",
        "print('R Square :', r2_score(comparaciones['Real'], comparaciones['Predicho'] ))"
      ],
      "metadata": {
        "colab": {
          "base_uri": "https://localhost:8080/"
        },
        "id": "kVtb5in4VV8E",
        "outputId": "635b81a1-a9f0-4dc9-b9fc-746a5a247520"
      },
      "execution_count": 28,
      "outputs": [
        {
          "output_type": "stream",
          "name": "stdout",
          "text": [
            "R Square : 0.7415\n",
            "R Square : 0.7410581411870364\n"
          ]
        }
      ]
    },
    {
      "cell_type": "markdown",
      "source": [
        "Como el valor de R Square está por encima del 50% el modelo **¡SE ACEPTA!**, inclusive está mejor que el modelo de regresión polinomial de segundo nivel."
      ],
      "metadata": {
        "id": "h96_2ALVLePk"
      }
    },
    {
      "cell_type": "markdown",
      "source": [
        "#### rmse"
      ],
      "metadata": {
        "id": "VY68apeMLbhL"
      }
    },
    {
      "cell_type": "code",
      "source": [
        "print('Mean Squared Error: MSE', metrics.mean_squared_error(valor_test, predicciones))\n",
        "print('Root Mean Squared Error RMSE:', np.sqrt(metrics.mean_squared_error(valor_test, predicciones)))"
      ],
      "metadata": {
        "colab": {
          "base_uri": "https://localhost:8080/"
        },
        "id": "UlWt8rMELX8t",
        "outputId": "f84bc077-b6fd-4faf-b7f4-ab4b7945cb5b"
      },
      "execution_count": 29,
      "outputs": [
        {
          "output_type": "stream",
          "name": "stdout",
          "text": [
            "Mean Squared Error: MSE 3614545916973.49\n",
            "Root Mean Squared Error RMSE: 1901195.9175670166\n"
          ]
        }
      ]
    },
    {
      "cell_type": "markdown",
      "source": [
        "El modelo **SI** **¡SE ACEPTA!** ya que el valor de **rmse** etá por debajo de los 2,000,000 (dos millones) que fue una métrica inicial establecida. ESte modelo se acepta en mejor en comparación con el polinómioc d esegndo nivel y el modelo de regresipon lineal simple."
      ],
      "metadata": {
        "id": "bCtCjFoaLnYQ"
      }
    },
    {
      "cell_type": "markdown",
      "source": [
        "# Interpretación\n",
        "\n",
        "¿Que significado tiene el  estadístico R Square para ambos modelos?\n",
        "es una medida estadística que representa la proporción de la varianza de una variable dependiente que se explica por una o varias variables independientes en un modelo de regresión. Mientras que la conexión aclara la calidad de la conexión entre una variable autónoma y una variable dependiente, el R-cuadrado revela hasta qué punto la fluctuación de una variable aclara la diferencia de la variable subsiguiente. En esta línea, en el caso de que el R2 de un modelo sea 0,50, en ese punto, aproximadamente el 50% de la variedad observada puede ser aclarada por las fuentes de información del modelo.\n",
        "¿Que significado tiene la fórmula de mínimos cuadrados en el modelo de regresión lineal simple?\n",
        "nos arroja una prediccion\n",
        "¿Cuáles son los valores de los coeficientes a y b para el modelo de regresión lineal simple?\n",
        "son los valores de referecncia en las que se usara la formula de regresion los cuales vienen del modelo matematico de pendiente\n",
        "¿Para qué sirven los datos de entrenamiento y los datos de validación?\n",
        "los datos de entrenamiento sirven para generar el modelo mientras que los datos de validacion sirven para generar la predicción\n",
        "¿Cómo se puede predecir valores en ambos modelos?\n",
        "con el comando especifico de cada lenguaje \n",
        "¿Qué diferencias y similitudes encuentran en la programación Python y R en ambos modelos?\n",
        "que en python no hay tantos errores\n",
        "Para este conjunto de datos cual es el mejor modelo para realizar predicciones y porqué?\n",
        " el ultimo modelo de segundo nivel fue el que dio una prediccion aceptable"
      ],
      "metadata": {
        "id": "opdB5Ev5LwSG"
      }
    },
    {
      "cell_type": "markdown",
      "source": [
        "# Bibliografía\n",
        "\n",
        "[https://ichi.pro/es/regresion-polinomial-con-python-73720766034197](https://ichi.pro/es/regresion-polinomial-con-python-73720766034197)\n",
        "\n",
        "[https://ichi.pro/es/regresion-polinomial-en-python-239345094233430](https://ichi.pro/es/regresion-polinomial-en-python-239345094233430)"
      ],
      "metadata": {
        "id": "YO6q8Ml2LxB-"
      }
    }
  ]
}